{
 "cells": [
  {
   "cell_type": "code",
   "execution_count": 3,
   "id": "1a67b142",
   "metadata": {},
   "outputs": [],
   "source": [
    "import pandas as pd\n",
    "from sklearn.neighbors import KNeighborsClassifier as KNN\n",
    "model=KNN(n_neighbors=3)"
   ]
  },
  {
   "cell_type": "code",
   "execution_count": 4,
   "id": "6e86afc5",
   "metadata": {},
   "outputs": [],
   "source": [
    "df=pd.read_csv(\"train_LZV4RXX.csv\")\n"
   ]
  },
  {
   "cell_type": "code",
   "execution_count": 5,
   "id": "9d255a64",
   "metadata": {},
   "outputs": [
    {
     "data": {
      "text/html": [
       "<div>\n",
       "<style scoped>\n",
       "    .dataframe tbody tr th:only-of-type {\n",
       "        vertical-align: middle;\n",
       "    }\n",
       "\n",
       "    .dataframe tbody tr th {\n",
       "        vertical-align: top;\n",
       "    }\n",
       "\n",
       "    .dataframe thead th {\n",
       "        text-align: right;\n",
       "    }\n",
       "</style>\n",
       "<table border=\"1\" class=\"dataframe\">\n",
       "  <thead>\n",
       "    <tr style=\"text-align: right;\">\n",
       "      <th></th>\n",
       "      <th>loan_id</th>\n",
       "      <th>age</th>\n",
       "      <th>education</th>\n",
       "      <th>proof_submitted</th>\n",
       "      <th>loan_amount</th>\n",
       "      <th>asset_cost</th>\n",
       "      <th>no_of_loans</th>\n",
       "      <th>no_of_curr_loans</th>\n",
       "      <th>last_delinq_none</th>\n",
       "      <th>loan_default</th>\n",
       "    </tr>\n",
       "  </thead>\n",
       "  <tbody>\n",
       "    <tr>\n",
       "      <th>0</th>\n",
       "      <td>1</td>\n",
       "      <td>27</td>\n",
       "      <td>1.0</td>\n",
       "      <td>Aadhar</td>\n",
       "      <td>504264</td>\n",
       "      <td>820920</td>\n",
       "      <td>2</td>\n",
       "      <td>2</td>\n",
       "      <td>0</td>\n",
       "      <td>0</td>\n",
       "    </tr>\n",
       "    <tr>\n",
       "      <th>1</th>\n",
       "      <td>2</td>\n",
       "      <td>48</td>\n",
       "      <td>1.0</td>\n",
       "      <td>Aadhar</td>\n",
       "      <td>728556</td>\n",
       "      <td>831444</td>\n",
       "      <td>6</td>\n",
       "      <td>2</td>\n",
       "      <td>0</td>\n",
       "      <td>0</td>\n",
       "    </tr>\n",
       "    <tr>\n",
       "      <th>2</th>\n",
       "      <td>3</td>\n",
       "      <td>30</td>\n",
       "      <td>2.0</td>\n",
       "      <td>VoterID</td>\n",
       "      <td>642936</td>\n",
       "      <td>826092</td>\n",
       "      <td>0</td>\n",
       "      <td>0</td>\n",
       "      <td>0</td>\n",
       "      <td>1</td>\n",
       "    </tr>\n",
       "    <tr>\n",
       "      <th>3</th>\n",
       "      <td>4</td>\n",
       "      <td>28</td>\n",
       "      <td>1.0</td>\n",
       "      <td>Aadhar</td>\n",
       "      <td>746556</td>\n",
       "      <td>930924</td>\n",
       "      <td>0</td>\n",
       "      <td>0</td>\n",
       "      <td>0</td>\n",
       "      <td>0</td>\n",
       "    </tr>\n",
       "    <tr>\n",
       "      <th>4</th>\n",
       "      <td>5</td>\n",
       "      <td>29</td>\n",
       "      <td>1.0</td>\n",
       "      <td>Aadhar</td>\n",
       "      <td>1139880</td>\n",
       "      <td>1902000</td>\n",
       "      <td>0</td>\n",
       "      <td>0</td>\n",
       "      <td>0</td>\n",
       "      <td>0</td>\n",
       "    </tr>\n",
       "    <tr>\n",
       "      <th>...</th>\n",
       "      <td>...</td>\n",
       "      <td>...</td>\n",
       "      <td>...</td>\n",
       "      <td>...</td>\n",
       "      <td>...</td>\n",
       "      <td>...</td>\n",
       "      <td>...</td>\n",
       "      <td>...</td>\n",
       "      <td>...</td>\n",
       "      <td>...</td>\n",
       "    </tr>\n",
       "    <tr>\n",
       "      <th>6995</th>\n",
       "      <td>6996</td>\n",
       "      <td>45</td>\n",
       "      <td>2.0</td>\n",
       "      <td>Aadhar</td>\n",
       "      <td>930948</td>\n",
       "      <td>1258344</td>\n",
       "      <td>0</td>\n",
       "      <td>0</td>\n",
       "      <td>0</td>\n",
       "      <td>1</td>\n",
       "    </tr>\n",
       "    <tr>\n",
       "      <th>6996</th>\n",
       "      <td>6997</td>\n",
       "      <td>41</td>\n",
       "      <td>2.0</td>\n",
       "      <td>Aadhar</td>\n",
       "      <td>681108</td>\n",
       "      <td>791040</td>\n",
       "      <td>4</td>\n",
       "      <td>4</td>\n",
       "      <td>0</td>\n",
       "      <td>1</td>\n",
       "    </tr>\n",
       "    <tr>\n",
       "      <th>6997</th>\n",
       "      <td>6998</td>\n",
       "      <td>47</td>\n",
       "      <td>2.0</td>\n",
       "      <td>Aadhar</td>\n",
       "      <td>627636</td>\n",
       "      <td>720336</td>\n",
       "      <td>35</td>\n",
       "      <td>11</td>\n",
       "      <td>0</td>\n",
       "      <td>1</td>\n",
       "    </tr>\n",
       "    <tr>\n",
       "      <th>6998</th>\n",
       "      <td>6999</td>\n",
       "      <td>39</td>\n",
       "      <td>1.0</td>\n",
       "      <td>Aadhar</td>\n",
       "      <td>654708</td>\n",
       "      <td>793860</td>\n",
       "      <td>0</td>\n",
       "      <td>0</td>\n",
       "      <td>0</td>\n",
       "      <td>1</td>\n",
       "    </tr>\n",
       "    <tr>\n",
       "      <th>6999</th>\n",
       "      <td>7000</td>\n",
       "      <td>31</td>\n",
       "      <td>1.0</td>\n",
       "      <td>Aadhar</td>\n",
       "      <td>705108</td>\n",
       "      <td>900660</td>\n",
       "      <td>0</td>\n",
       "      <td>0</td>\n",
       "      <td>0</td>\n",
       "      <td>0</td>\n",
       "    </tr>\n",
       "  </tbody>\n",
       "</table>\n",
       "<p>7000 rows × 10 columns</p>\n",
       "</div>"
      ],
      "text/plain": [
       "      loan_id  age  education proof_submitted  loan_amount  asset_cost  \\\n",
       "0           1   27        1.0          Aadhar       504264      820920   \n",
       "1           2   48        1.0          Aadhar       728556      831444   \n",
       "2           3   30        2.0         VoterID       642936      826092   \n",
       "3           4   28        1.0          Aadhar       746556      930924   \n",
       "4           5   29        1.0          Aadhar      1139880     1902000   \n",
       "...       ...  ...        ...             ...          ...         ...   \n",
       "6995     6996   45        2.0          Aadhar       930948     1258344   \n",
       "6996     6997   41        2.0          Aadhar       681108      791040   \n",
       "6997     6998   47        2.0          Aadhar       627636      720336   \n",
       "6998     6999   39        1.0          Aadhar       654708      793860   \n",
       "6999     7000   31        1.0          Aadhar       705108      900660   \n",
       "\n",
       "      no_of_loans  no_of_curr_loans  last_delinq_none  loan_default  \n",
       "0               2                 2                 0             0  \n",
       "1               6                 2                 0             0  \n",
       "2               0                 0                 0             1  \n",
       "3               0                 0                 0             0  \n",
       "4               0                 0                 0             0  \n",
       "...           ...               ...               ...           ...  \n",
       "6995            0                 0                 0             1  \n",
       "6996            4                 4                 0             1  \n",
       "6997           35                11                 0             1  \n",
       "6998            0                 0                 0             1  \n",
       "6999            0                 0                 0             0  \n",
       "\n",
       "[7000 rows x 10 columns]"
      ]
     },
     "execution_count": 5,
     "metadata": {},
     "output_type": "execute_result"
    }
   ],
   "source": [
    "df"
   ]
  },
  {
   "cell_type": "code",
   "execution_count": 13,
   "id": "40ff94f5",
   "metadata": {},
   "outputs": [],
   "source": [
    "x1=df[\"loan_amount\"].values.reshape(-1,1)\n",
    "y1=df[\"loan_default\"].values"
   ]
  },
  {
   "cell_type": "code",
   "execution_count": 14,
   "id": "f3ac5c6e",
   "metadata": {},
   "outputs": [
    {
     "data": {
      "text/plain": [
       "array([0, 0, 0, ..., 1, 0, 0], dtype=int64)"
      ]
     },
     "execution_count": 14,
     "metadata": {},
     "output_type": "execute_result"
    }
   ],
   "source": [
    "model.fit(x1,y1)\n",
    "ypred1=model.predict(x1)\n",
    "ypred1"
   ]
  },
  {
   "cell_type": "code",
   "execution_count": 6,
   "id": "e59688f6",
   "metadata": {},
   "outputs": [],
   "source": [
    "#a=test[\"loan_amount\"].values.reshape(-1,1)\n",
    "#ypred2=model.predict(a)\n",
    "#ypred2"
   ]
  },
  {
   "cell_type": "code",
   "execution_count": 7,
   "id": "07283052",
   "metadata": {},
   "outputs": [],
   "source": [
    "#b=pd.DataFrame(ypred2)\n",
    "#type(b)\n",
    "#b"
   ]
  },
  {
   "cell_type": "code",
   "execution_count": 8,
   "id": "9cc1df2f",
   "metadata": {},
   "outputs": [],
   "source": [
    "#c=test[\"loan_id\"]\n"
   ]
  },
  {
   "cell_type": "code",
   "execution_count": 9,
   "id": "1c0f9529",
   "metadata": {},
   "outputs": [],
   "source": [
    "#result=pd.concat([c,b],axis=1,join=\"inner\")"
   ]
  },
  {
   "cell_type": "code",
   "execution_count": 10,
   "id": "e971cc88",
   "metadata": {},
   "outputs": [],
   "source": [
    "#result"
   ]
  },
  {
   "cell_type": "code",
   "execution_count": 11,
   "id": "5f89e6c1",
   "metadata": {},
   "outputs": [],
   "source": [
    "#result.rename(columns={0:\"predicted values\"},inplace=True)"
   ]
  },
  {
   "cell_type": "code",
   "execution_count": 12,
   "id": "5957d3bb",
   "metadata": {},
   "outputs": [],
   "source": [
    "#result.to_csv(\"C:\\\\Users\\\\PRIYANKA\\\\Desktop\\\\submission1.csv\")"
   ]
  },
  {
   "cell_type": "code",
   "execution_count": null,
   "id": "25d33bc6",
   "metadata": {},
   "outputs": [],
   "source": []
  },
  {
   "cell_type": "code",
   "execution_count": null,
   "id": "ce866861",
   "metadata": {},
   "outputs": [],
   "source": []
  },
  {
   "cell_type": "code",
   "execution_count": null,
   "id": "964ef9ec",
   "metadata": {},
   "outputs": [],
   "source": []
  }
 ],
 "metadata": {
  "kernelspec": {
   "display_name": "Python 3 (ipykernel)",
   "language": "python",
   "name": "python3"
  },
  "language_info": {
   "codemirror_mode": {
    "name": "ipython",
    "version": 3
   },
   "file_extension": ".py",
   "mimetype": "text/x-python",
   "name": "python",
   "nbconvert_exporter": "python",
   "pygments_lexer": "ipython3",
   "version": "3.9.12"
  }
 },
 "nbformat": 4,
 "nbformat_minor": 5
}
