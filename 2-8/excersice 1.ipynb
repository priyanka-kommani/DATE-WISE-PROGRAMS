{
 "cells": [
  {
   "cell_type": "markdown",
   "id": "021f7427",
   "metadata": {},
   "source": [
    "### reading the data set"
   ]
  },
  {
   "cell_type": "code",
   "execution_count": 40,
   "id": "6e1205d6",
   "metadata": {},
   "outputs": [],
   "source": [
    "import pandas as pd\n",
    "df=pd.read_csv(\"bollywood.csv\")"
   ]
  },
  {
   "cell_type": "markdown",
   "id": "ad34353b",
   "metadata": {},
   "source": [
    "### printing the data set"
   ]
  },
  {
   "cell_type": "code",
   "execution_count": 41,
   "id": "8b00c6ad",
   "metadata": {
    "scrolled": true
   },
   "outputs": [
    {
     "data": {
      "text/html": [
       "<div>\n",
       "<style scoped>\n",
       "    .dataframe tbody tr th:only-of-type {\n",
       "        vertical-align: middle;\n",
       "    }\n",
       "\n",
       "    .dataframe tbody tr th {\n",
       "        vertical-align: top;\n",
       "    }\n",
       "\n",
       "    .dataframe thead th {\n",
       "        text-align: right;\n",
       "    }\n",
       "</style>\n",
       "<table border=\"1\" class=\"dataframe\">\n",
       "  <thead>\n",
       "    <tr style=\"text-align: right;\">\n",
       "      <th></th>\n",
       "      <th>SlNo</th>\n",
       "      <th>Release Date</th>\n",
       "      <th>MovieName</th>\n",
       "      <th>ReleaseTime</th>\n",
       "      <th>Genre</th>\n",
       "      <th>Budget</th>\n",
       "      <th>BoxOfficeCollection</th>\n",
       "      <th>YoutubeViews</th>\n",
       "      <th>YoutubeLikes</th>\n",
       "      <th>YoutubeDislikes</th>\n",
       "    </tr>\n",
       "  </thead>\n",
       "  <tbody>\n",
       "    <tr>\n",
       "      <th>0</th>\n",
       "      <td>1</td>\n",
       "      <td>18-Apr-14</td>\n",
       "      <td>2 States</td>\n",
       "      <td>LW</td>\n",
       "      <td>Romance</td>\n",
       "      <td>36</td>\n",
       "      <td>104.00</td>\n",
       "      <td>8576361</td>\n",
       "      <td>26622</td>\n",
       "      <td>2527</td>\n",
       "    </tr>\n",
       "    <tr>\n",
       "      <th>1</th>\n",
       "      <td>2</td>\n",
       "      <td>4-Jan-13</td>\n",
       "      <td>Table No. 21</td>\n",
       "      <td>N</td>\n",
       "      <td>Thriller</td>\n",
       "      <td>10</td>\n",
       "      <td>12.00</td>\n",
       "      <td>1087320</td>\n",
       "      <td>1129</td>\n",
       "      <td>137</td>\n",
       "    </tr>\n",
       "    <tr>\n",
       "      <th>2</th>\n",
       "      <td>3</td>\n",
       "      <td>18-Jul-14</td>\n",
       "      <td>Amit Sahni Ki List</td>\n",
       "      <td>N</td>\n",
       "      <td>Comedy</td>\n",
       "      <td>10</td>\n",
       "      <td>4.00</td>\n",
       "      <td>572336</td>\n",
       "      <td>586</td>\n",
       "      <td>54</td>\n",
       "    </tr>\n",
       "    <tr>\n",
       "      <th>3</th>\n",
       "      <td>4</td>\n",
       "      <td>4-Jan-13</td>\n",
       "      <td>Rajdhani Express</td>\n",
       "      <td>N</td>\n",
       "      <td>Drama</td>\n",
       "      <td>7</td>\n",
       "      <td>0.35</td>\n",
       "      <td>42626</td>\n",
       "      <td>86</td>\n",
       "      <td>19</td>\n",
       "    </tr>\n",
       "    <tr>\n",
       "      <th>4</th>\n",
       "      <td>5</td>\n",
       "      <td>4-Jul-14</td>\n",
       "      <td>Bobby Jasoos</td>\n",
       "      <td>N</td>\n",
       "      <td>Comedy</td>\n",
       "      <td>18</td>\n",
       "      <td>10.80</td>\n",
       "      <td>3113427</td>\n",
       "      <td>4512</td>\n",
       "      <td>1224</td>\n",
       "    </tr>\n",
       "    <tr>\n",
       "      <th>...</th>\n",
       "      <td>...</td>\n",
       "      <td>...</td>\n",
       "      <td>...</td>\n",
       "      <td>...</td>\n",
       "      <td>...</td>\n",
       "      <td>...</td>\n",
       "      <td>...</td>\n",
       "      <td>...</td>\n",
       "      <td>...</td>\n",
       "      <td>...</td>\n",
       "    </tr>\n",
       "    <tr>\n",
       "      <th>144</th>\n",
       "      <td>145</td>\n",
       "      <td>27-Feb-15</td>\n",
       "      <td>Dum Laga Ke Haisha</td>\n",
       "      <td>N</td>\n",
       "      <td>Comedy</td>\n",
       "      <td>15</td>\n",
       "      <td>30.00</td>\n",
       "      <td>3250917</td>\n",
       "      <td>8185</td>\n",
       "      <td>615</td>\n",
       "    </tr>\n",
       "    <tr>\n",
       "      <th>145</th>\n",
       "      <td>146</td>\n",
       "      <td>13-Mar-15</td>\n",
       "      <td>NH10</td>\n",
       "      <td>N</td>\n",
       "      <td>Thriller</td>\n",
       "      <td>13</td>\n",
       "      <td>32.10</td>\n",
       "      <td>5592977</td>\n",
       "      <td>15464</td>\n",
       "      <td>1513</td>\n",
       "    </tr>\n",
       "    <tr>\n",
       "      <th>146</th>\n",
       "      <td>147</td>\n",
       "      <td>20-Mar-15</td>\n",
       "      <td>Dilliwali Zaalim Girlfriend</td>\n",
       "      <td>N</td>\n",
       "      <td>Comedy</td>\n",
       "      <td>32</td>\n",
       "      <td>12.00</td>\n",
       "      <td>2316047</td>\n",
       "      <td>4289</td>\n",
       "      <td>807</td>\n",
       "    </tr>\n",
       "    <tr>\n",
       "      <th>147</th>\n",
       "      <td>148</td>\n",
       "      <td>20-Mar-15</td>\n",
       "      <td>Hunterrr</td>\n",
       "      <td>N</td>\n",
       "      <td>Comedy</td>\n",
       "      <td>5</td>\n",
       "      <td>11.89</td>\n",
       "      <td>4674795</td>\n",
       "      <td>3706</td>\n",
       "      <td>762</td>\n",
       "    </tr>\n",
       "    <tr>\n",
       "      <th>148</th>\n",
       "      <td>149</td>\n",
       "      <td>23-May-14</td>\n",
       "      <td>Kochadaiiyaan</td>\n",
       "      <td>HS</td>\n",
       "      <td>Action</td>\n",
       "      <td>150</td>\n",
       "      <td>120.00</td>\n",
       "      <td>4740727</td>\n",
       "      <td>13466</td>\n",
       "      <td>2649</td>\n",
       "    </tr>\n",
       "  </tbody>\n",
       "</table>\n",
       "<p>149 rows × 10 columns</p>\n",
       "</div>"
      ],
      "text/plain": [
       "     SlNo Release Date                    MovieName ReleaseTime     Genre  \\\n",
       "0       1    18-Apr-14                     2 States          LW   Romance   \n",
       "1       2     4-Jan-13                 Table No. 21           N  Thriller   \n",
       "2       3    18-Jul-14           Amit Sahni Ki List           N    Comedy   \n",
       "3       4     4-Jan-13             Rajdhani Express           N     Drama   \n",
       "4       5     4-Jul-14                 Bobby Jasoos           N    Comedy   \n",
       "..    ...          ...                          ...         ...       ...   \n",
       "144   145    27-Feb-15           Dum Laga Ke Haisha           N    Comedy   \n",
       "145   146    13-Mar-15                         NH10           N  Thriller   \n",
       "146   147    20-Mar-15  Dilliwali Zaalim Girlfriend           N    Comedy   \n",
       "147   148    20-Mar-15                     Hunterrr           N    Comedy   \n",
       "148   149    23-May-14                Kochadaiiyaan          HS    Action   \n",
       "\n",
       "     Budget  BoxOfficeCollection  YoutubeViews  YoutubeLikes  YoutubeDislikes  \n",
       "0        36               104.00       8576361         26622             2527  \n",
       "1        10                12.00       1087320          1129              137  \n",
       "2        10                 4.00        572336           586               54  \n",
       "3         7                 0.35         42626            86               19  \n",
       "4        18                10.80       3113427          4512             1224  \n",
       "..      ...                  ...           ...           ...              ...  \n",
       "144      15                30.00       3250917          8185              615  \n",
       "145      13                32.10       5592977         15464             1513  \n",
       "146      32                12.00       2316047          4289              807  \n",
       "147       5                11.89       4674795          3706              762  \n",
       "148     150               120.00       4740727         13466             2649  \n",
       "\n",
       "[149 rows x 10 columns]"
      ]
     },
     "execution_count": 41,
     "metadata": {},
     "output_type": "execute_result"
    }
   ],
   "source": [
    "df"
   ]
  },
  {
   "cell_type": "markdown",
   "id": "4e2271f0",
   "metadata": {},
   "source": [
    "### finding the no of columns"
   ]
  },
  {
   "cell_type": "code",
   "execution_count": 42,
   "id": "3ad0276c",
   "metadata": {},
   "outputs": [
    {
     "name": "stdout",
     "output_type": "stream",
     "text": [
      "SlNo                   149\n",
      "Release Date           149\n",
      "MovieName              149\n",
      "ReleaseTime            149\n",
      "Genre                  149\n",
      "Budget                 149\n",
      "BoxOfficeCollection    149\n",
      "YoutubeViews           149\n",
      "YoutubeLikes           149\n",
      "YoutubeDislikes        149\n",
      "dtype: int64\n",
      "1490\n",
      "(149, 10)\n"
     ]
    }
   ],
   "source": [
    "print(df.count())\n",
    "print(df.size)\n",
    "print(df.shape)"
   ]
  },
  {
   "cell_type": "markdown",
   "id": "fcd51948",
   "metadata": {},
   "source": [
    "### How many movies got released in each genre? Which genre had highest number of releases? Sort number of releases in each genre in descending order."
   ]
  },
  {
   "cell_type": "code",
   "execution_count": 43,
   "id": "01e57344",
   "metadata": {},
   "outputs": [
    {
     "data": {
      "text/plain": [
       "Genre\n",
       "Romance     25\n",
       "Thriller    29\n",
       "Comedy      36\n",
       "Drama       35\n",
       "Action      24\n",
       "dtype: int64"
      ]
     },
     "execution_count": 43,
     "metadata": {},
     "output_type": "execute_result"
    }
   ],
   "source": [
    "df.groupby(\"Genre\",sort=False).size()"
   ]
  },
  {
   "cell_type": "code",
   "execution_count": 44,
   "id": "eacc0c8f",
   "metadata": {},
   "outputs": [
    {
     "data": {
      "text/plain": [
       "Comedy      36\n",
       "Drama       35\n",
       "Thriller    29\n",
       "Romance     25\n",
       "Action      24\n",
       "Name: Genre, dtype: int64"
      ]
     },
     "execution_count": 44,
     "metadata": {},
     "output_type": "execute_result"
    }
   ],
   "source": [
    "df[\"Genre\"].value_counts()"
   ]
  },
  {
   "cell_type": "code",
   "execution_count": 45,
   "id": "1f9e111a",
   "metadata": {},
   "outputs": [
    {
     "name": "stdout",
     "output_type": "stream",
     "text": [
      "36\n"
     ]
    },
    {
     "data": {
      "text/plain": [
       "0    Comedy\n",
       "Name: Genre, dtype: object"
      ]
     },
     "execution_count": 45,
     "metadata": {},
     "output_type": "execute_result"
    }
   ],
   "source": [
    "a=df[\"Genre\"].value_counts().max()\n",
    "print(a)\n",
    "c=df[\"Genre\"]\n",
    "c.mode()\n"
   ]
  },
  {
   "cell_type": "markdown",
   "id": "bd6ecd6a",
   "metadata": {},
   "source": [
    "## How many movies in each genre got released in different release times like long weekend, festive season, etc. (Note: Do a cross tabulation between Genre and ReleaseTime.)"
   ]
  },
  {
   "cell_type": "code",
   "execution_count": 46,
   "id": "9f5d93dd",
   "metadata": {
    "scrolled": true
   },
   "outputs": [
    {
     "data": {
      "text/html": [
       "<div>\n",
       "<style scoped>\n",
       "    .dataframe tbody tr th:only-of-type {\n",
       "        vertical-align: middle;\n",
       "    }\n",
       "\n",
       "    .dataframe tbody tr th {\n",
       "        vertical-align: top;\n",
       "    }\n",
       "\n",
       "    .dataframe thead th {\n",
       "        text-align: right;\n",
       "    }\n",
       "</style>\n",
       "<table border=\"1\" class=\"dataframe\">\n",
       "  <thead>\n",
       "    <tr style=\"text-align: right;\">\n",
       "      <th>ReleaseTime</th>\n",
       "      <th>FS</th>\n",
       "      <th>HS</th>\n",
       "      <th>LW</th>\n",
       "      <th>N</th>\n",
       "    </tr>\n",
       "    <tr>\n",
       "      <th>Genre</th>\n",
       "      <th></th>\n",
       "      <th></th>\n",
       "      <th></th>\n",
       "      <th></th>\n",
       "    </tr>\n",
       "  </thead>\n",
       "  <tbody>\n",
       "    <tr>\n",
       "      <th>Action</th>\n",
       "      <td>3</td>\n",
       "      <td>3</td>\n",
       "      <td>3</td>\n",
       "      <td>15</td>\n",
       "    </tr>\n",
       "    <tr>\n",
       "      <th>Comedy</th>\n",
       "      <td>3</td>\n",
       "      <td>5</td>\n",
       "      <td>5</td>\n",
       "      <td>23</td>\n",
       "    </tr>\n",
       "    <tr>\n",
       "      <th>Drama</th>\n",
       "      <td>4</td>\n",
       "      <td>6</td>\n",
       "      <td>1</td>\n",
       "      <td>24</td>\n",
       "    </tr>\n",
       "    <tr>\n",
       "      <th>Romance</th>\n",
       "      <td>3</td>\n",
       "      <td>3</td>\n",
       "      <td>4</td>\n",
       "      <td>15</td>\n",
       "    </tr>\n",
       "    <tr>\n",
       "      <th>Thriller</th>\n",
       "      <td>4</td>\n",
       "      <td>1</td>\n",
       "      <td>2</td>\n",
       "      <td>22</td>\n",
       "    </tr>\n",
       "  </tbody>\n",
       "</table>\n",
       "</div>"
      ],
      "text/plain": [
       "ReleaseTime  FS  HS  LW   N\n",
       "Genre                      \n",
       "Action        3   3   3  15\n",
       "Comedy        3   5   5  23\n",
       "Drama         4   6   1  24\n",
       "Romance       3   3   4  15\n",
       "Thriller      4   1   2  22"
      ]
     },
     "execution_count": 46,
     "metadata": {},
     "output_type": "execute_result"
    }
   ],
   "source": [
    "pd.crosstab(index=df[\"Genre\"],columns=df[\"ReleaseTime\"])"
   ]
  },
  {
   "cell_type": "markdown",
   "id": "a80715fb",
   "metadata": {},
   "source": [
    "### which month of the year, maximum number movie releases are seen? (Note: Extract a new column called month from ReleaseDate column.)"
   ]
  },
  {
   "cell_type": "code",
   "execution_count": 47,
   "id": "1c1de0a8",
   "metadata": {},
   "outputs": [
    {
     "data": {
      "text/html": [
       "<div>\n",
       "<style scoped>\n",
       "    .dataframe tbody tr th:only-of-type {\n",
       "        vertical-align: middle;\n",
       "    }\n",
       "\n",
       "    .dataframe tbody tr th {\n",
       "        vertical-align: top;\n",
       "    }\n",
       "\n",
       "    .dataframe thead th {\n",
       "        text-align: right;\n",
       "    }\n",
       "</style>\n",
       "<table border=\"1\" class=\"dataframe\">\n",
       "  <thead>\n",
       "    <tr style=\"text-align: right;\">\n",
       "      <th></th>\n",
       "      <th>SlNo</th>\n",
       "      <th>Release Date</th>\n",
       "      <th>MovieName</th>\n",
       "      <th>ReleaseTime</th>\n",
       "      <th>Genre</th>\n",
       "      <th>Budget</th>\n",
       "      <th>BoxOfficeCollection</th>\n",
       "      <th>YoutubeViews</th>\n",
       "      <th>YoutubeLikes</th>\n",
       "      <th>YoutubeDislikes</th>\n",
       "      <th>month</th>\n",
       "    </tr>\n",
       "  </thead>\n",
       "  <tbody>\n",
       "    <tr>\n",
       "      <th>0</th>\n",
       "      <td>1</td>\n",
       "      <td>18-Apr-14</td>\n",
       "      <td>2 States</td>\n",
       "      <td>LW</td>\n",
       "      <td>Romance</td>\n",
       "      <td>36</td>\n",
       "      <td>104.00</td>\n",
       "      <td>8576361</td>\n",
       "      <td>26622</td>\n",
       "      <td>2527</td>\n",
       "      <td>4</td>\n",
       "    </tr>\n",
       "    <tr>\n",
       "      <th>1</th>\n",
       "      <td>2</td>\n",
       "      <td>4-Jan-13</td>\n",
       "      <td>Table No. 21</td>\n",
       "      <td>N</td>\n",
       "      <td>Thriller</td>\n",
       "      <td>10</td>\n",
       "      <td>12.00</td>\n",
       "      <td>1087320</td>\n",
       "      <td>1129</td>\n",
       "      <td>137</td>\n",
       "      <td>1</td>\n",
       "    </tr>\n",
       "    <tr>\n",
       "      <th>2</th>\n",
       "      <td>3</td>\n",
       "      <td>18-Jul-14</td>\n",
       "      <td>Amit Sahni Ki List</td>\n",
       "      <td>N</td>\n",
       "      <td>Comedy</td>\n",
       "      <td>10</td>\n",
       "      <td>4.00</td>\n",
       "      <td>572336</td>\n",
       "      <td>586</td>\n",
       "      <td>54</td>\n",
       "      <td>7</td>\n",
       "    </tr>\n",
       "    <tr>\n",
       "      <th>3</th>\n",
       "      <td>4</td>\n",
       "      <td>4-Jan-13</td>\n",
       "      <td>Rajdhani Express</td>\n",
       "      <td>N</td>\n",
       "      <td>Drama</td>\n",
       "      <td>7</td>\n",
       "      <td>0.35</td>\n",
       "      <td>42626</td>\n",
       "      <td>86</td>\n",
       "      <td>19</td>\n",
       "      <td>1</td>\n",
       "    </tr>\n",
       "    <tr>\n",
       "      <th>4</th>\n",
       "      <td>5</td>\n",
       "      <td>4-Jul-14</td>\n",
       "      <td>Bobby Jasoos</td>\n",
       "      <td>N</td>\n",
       "      <td>Comedy</td>\n",
       "      <td>18</td>\n",
       "      <td>10.80</td>\n",
       "      <td>3113427</td>\n",
       "      <td>4512</td>\n",
       "      <td>1224</td>\n",
       "      <td>7</td>\n",
       "    </tr>\n",
       "    <tr>\n",
       "      <th>...</th>\n",
       "      <td>...</td>\n",
       "      <td>...</td>\n",
       "      <td>...</td>\n",
       "      <td>...</td>\n",
       "      <td>...</td>\n",
       "      <td>...</td>\n",
       "      <td>...</td>\n",
       "      <td>...</td>\n",
       "      <td>...</td>\n",
       "      <td>...</td>\n",
       "      <td>...</td>\n",
       "    </tr>\n",
       "    <tr>\n",
       "      <th>144</th>\n",
       "      <td>145</td>\n",
       "      <td>27-Feb-15</td>\n",
       "      <td>Dum Laga Ke Haisha</td>\n",
       "      <td>N</td>\n",
       "      <td>Comedy</td>\n",
       "      <td>15</td>\n",
       "      <td>30.00</td>\n",
       "      <td>3250917</td>\n",
       "      <td>8185</td>\n",
       "      <td>615</td>\n",
       "      <td>2</td>\n",
       "    </tr>\n",
       "    <tr>\n",
       "      <th>145</th>\n",
       "      <td>146</td>\n",
       "      <td>13-Mar-15</td>\n",
       "      <td>NH10</td>\n",
       "      <td>N</td>\n",
       "      <td>Thriller</td>\n",
       "      <td>13</td>\n",
       "      <td>32.10</td>\n",
       "      <td>5592977</td>\n",
       "      <td>15464</td>\n",
       "      <td>1513</td>\n",
       "      <td>3</td>\n",
       "    </tr>\n",
       "    <tr>\n",
       "      <th>146</th>\n",
       "      <td>147</td>\n",
       "      <td>20-Mar-15</td>\n",
       "      <td>Dilliwali Zaalim Girlfriend</td>\n",
       "      <td>N</td>\n",
       "      <td>Comedy</td>\n",
       "      <td>32</td>\n",
       "      <td>12.00</td>\n",
       "      <td>2316047</td>\n",
       "      <td>4289</td>\n",
       "      <td>807</td>\n",
       "      <td>3</td>\n",
       "    </tr>\n",
       "    <tr>\n",
       "      <th>147</th>\n",
       "      <td>148</td>\n",
       "      <td>20-Mar-15</td>\n",
       "      <td>Hunterrr</td>\n",
       "      <td>N</td>\n",
       "      <td>Comedy</td>\n",
       "      <td>5</td>\n",
       "      <td>11.89</td>\n",
       "      <td>4674795</td>\n",
       "      <td>3706</td>\n",
       "      <td>762</td>\n",
       "      <td>3</td>\n",
       "    </tr>\n",
       "    <tr>\n",
       "      <th>148</th>\n",
       "      <td>149</td>\n",
       "      <td>23-May-14</td>\n",
       "      <td>Kochadaiiyaan</td>\n",
       "      <td>HS</td>\n",
       "      <td>Action</td>\n",
       "      <td>150</td>\n",
       "      <td>120.00</td>\n",
       "      <td>4740727</td>\n",
       "      <td>13466</td>\n",
       "      <td>2649</td>\n",
       "      <td>5</td>\n",
       "    </tr>\n",
       "  </tbody>\n",
       "</table>\n",
       "<p>149 rows × 11 columns</p>\n",
       "</div>"
      ],
      "text/plain": [
       "     SlNo Release Date                    MovieName ReleaseTime     Genre  \\\n",
       "0       1    18-Apr-14                     2 States          LW   Romance   \n",
       "1       2     4-Jan-13                 Table No. 21           N  Thriller   \n",
       "2       3    18-Jul-14           Amit Sahni Ki List           N    Comedy   \n",
       "3       4     4-Jan-13             Rajdhani Express           N     Drama   \n",
       "4       5     4-Jul-14                 Bobby Jasoos           N    Comedy   \n",
       "..    ...          ...                          ...         ...       ...   \n",
       "144   145    27-Feb-15           Dum Laga Ke Haisha           N    Comedy   \n",
       "145   146    13-Mar-15                         NH10           N  Thriller   \n",
       "146   147    20-Mar-15  Dilliwali Zaalim Girlfriend           N    Comedy   \n",
       "147   148    20-Mar-15                     Hunterrr           N    Comedy   \n",
       "148   149    23-May-14                Kochadaiiyaan          HS    Action   \n",
       "\n",
       "     Budget  BoxOfficeCollection  YoutubeViews  YoutubeLikes  YoutubeDislikes  \\\n",
       "0        36               104.00       8576361         26622             2527   \n",
       "1        10                12.00       1087320          1129              137   \n",
       "2        10                 4.00        572336           586               54   \n",
       "3         7                 0.35         42626            86               19   \n",
       "4        18                10.80       3113427          4512             1224   \n",
       "..      ...                  ...           ...           ...              ...   \n",
       "144      15                30.00       3250917          8185              615   \n",
       "145      13                32.10       5592977         15464             1513   \n",
       "146      32                12.00       2316047          4289              807   \n",
       "147       5                11.89       4674795          3706              762   \n",
       "148     150               120.00       4740727         13466             2649   \n",
       "\n",
       "     month  \n",
       "0        4  \n",
       "1        1  \n",
       "2        7  \n",
       "3        1  \n",
       "4        7  \n",
       "..     ...  \n",
       "144      2  \n",
       "145      3  \n",
       "146      3  \n",
       "147      3  \n",
       "148      5  \n",
       "\n",
       "[149 rows x 11 columns]"
      ]
     },
     "execution_count": 47,
     "metadata": {},
     "output_type": "execute_result"
    }
   ],
   "source": [
    "df[\"month\"]=pd.DatetimeIndex(df[\"Release Date\"]).month\n",
    "df"
   ]
  },
  {
   "cell_type": "code",
   "execution_count": 48,
   "id": "c73fe7db",
   "metadata": {},
   "outputs": [
    {
     "name": "stdout",
     "output_type": "stream",
     "text": [
      "1     20\n",
      "3     19\n",
      "5     18\n",
      "7     16\n",
      "2     16\n",
      "4     11\n",
      "9     10\n",
      "6     10\n",
      "11    10\n",
      "10     9\n",
      "8      8\n",
      "12     2\n",
      "Name: month, dtype: int64\n"
     ]
    },
    {
     "data": {
      "text/plain": [
       "0    1\n",
       "Name: month, dtype: int64"
      ]
     },
     "execution_count": 48,
     "metadata": {},
     "output_type": "execute_result"
    }
   ],
   "source": [
    "a=df[\"month\"].value_counts()\n",
    "print(a)\n",
    "c=df[\"month\"].mode()\n",
    "c"
   ]
  },
  {
   "cell_type": "markdown",
   "id": "e81f7939",
   "metadata": {},
   "source": [
    "### Which month of the year typically sees most releases of high budgeted movies, that is, movies with budget of 25 crore or more"
   ]
  },
  {
   "cell_type": "code",
   "execution_count": 49,
   "id": "c06cad29",
   "metadata": {},
   "outputs": [
    {
     "data": {
      "text/plain": [
       "0    2\n",
       "Name: month, dtype: int64"
      ]
     },
     "execution_count": 49,
     "metadata": {},
     "output_type": "execute_result"
    }
   ],
   "source": [
    "n1=df[df[\"Budget\"]>25][\"month\"].mode()\n",
    "n1"
   ]
  },
  {
   "cell_type": "markdown",
   "id": "6480ed7b",
   "metadata": {},
   "source": [
    "### Which are the top 10 movies with maximum return on investment (ROI)? Calculate return on investment (ROI) as (BoxOfficeCollection – Budget) / Budget"
   ]
  },
  {
   "cell_type": "code",
   "execution_count": 50,
   "id": "92b89390",
   "metadata": {},
   "outputs": [],
   "source": [
    "n2=df[[\"MovieName\",\"BoxOfficeCollection\"]]"
   ]
  },
  {
   "cell_type": "code",
   "execution_count": 51,
   "id": "e76855ef",
   "metadata": {},
   "outputs": [
    {
     "data": {
      "text/html": [
       "<div>\n",
       "<style scoped>\n",
       "    .dataframe tbody tr th:only-of-type {\n",
       "        vertical-align: middle;\n",
       "    }\n",
       "\n",
       "    .dataframe tbody tr th {\n",
       "        vertical-align: top;\n",
       "    }\n",
       "\n",
       "    .dataframe thead th {\n",
       "        text-align: right;\n",
       "    }\n",
       "</style>\n",
       "<table border=\"1\" class=\"dataframe\">\n",
       "  <thead>\n",
       "    <tr style=\"text-align: right;\">\n",
       "      <th></th>\n",
       "      <th>MovieName</th>\n",
       "      <th>BoxOfficeCollection</th>\n",
       "    </tr>\n",
       "  </thead>\n",
       "  <tbody>\n",
       "    <tr>\n",
       "      <th>0</th>\n",
       "      <td>2 States</td>\n",
       "      <td>104.00</td>\n",
       "    </tr>\n",
       "    <tr>\n",
       "      <th>1</th>\n",
       "      <td>Table No. 21</td>\n",
       "      <td>12.00</td>\n",
       "    </tr>\n",
       "    <tr>\n",
       "      <th>2</th>\n",
       "      <td>Amit Sahni Ki List</td>\n",
       "      <td>4.00</td>\n",
       "    </tr>\n",
       "    <tr>\n",
       "      <th>3</th>\n",
       "      <td>Rajdhani Express</td>\n",
       "      <td>0.35</td>\n",
       "    </tr>\n",
       "    <tr>\n",
       "      <th>4</th>\n",
       "      <td>Bobby Jasoos</td>\n",
       "      <td>10.80</td>\n",
       "    </tr>\n",
       "    <tr>\n",
       "      <th>...</th>\n",
       "      <td>...</td>\n",
       "      <td>...</td>\n",
       "    </tr>\n",
       "    <tr>\n",
       "      <th>144</th>\n",
       "      <td>Dum Laga Ke Haisha</td>\n",
       "      <td>30.00</td>\n",
       "    </tr>\n",
       "    <tr>\n",
       "      <th>145</th>\n",
       "      <td>NH10</td>\n",
       "      <td>32.10</td>\n",
       "    </tr>\n",
       "    <tr>\n",
       "      <th>146</th>\n",
       "      <td>Dilliwali Zaalim Girlfriend</td>\n",
       "      <td>12.00</td>\n",
       "    </tr>\n",
       "    <tr>\n",
       "      <th>147</th>\n",
       "      <td>Hunterrr</td>\n",
       "      <td>11.89</td>\n",
       "    </tr>\n",
       "    <tr>\n",
       "      <th>148</th>\n",
       "      <td>Kochadaiiyaan</td>\n",
       "      <td>120.00</td>\n",
       "    </tr>\n",
       "  </tbody>\n",
       "</table>\n",
       "<p>149 rows × 2 columns</p>\n",
       "</div>"
      ],
      "text/plain": [
       "                       MovieName  BoxOfficeCollection\n",
       "0                       2 States               104.00\n",
       "1                   Table No. 21                12.00\n",
       "2             Amit Sahni Ki List                 4.00\n",
       "3               Rajdhani Express                 0.35\n",
       "4                   Bobby Jasoos                10.80\n",
       "..                           ...                  ...\n",
       "144           Dum Laga Ke Haisha                30.00\n",
       "145                         NH10                32.10\n",
       "146  Dilliwali Zaalim Girlfriend                12.00\n",
       "147                     Hunterrr                11.89\n",
       "148                Kochadaiiyaan               120.00\n",
       "\n",
       "[149 rows x 2 columns]"
      ]
     },
     "execution_count": 51,
     "metadata": {},
     "output_type": "execute_result"
    }
   ],
   "source": [
    "n2 "
   ]
  },
  {
   "cell_type": "code",
   "execution_count": 52,
   "id": "14e1161c",
   "metadata": {},
   "outputs": [],
   "source": [
    "n3=n2.sort_values(by=\"BoxOfficeCollection\")"
   ]
  },
  {
   "cell_type": "code",
   "execution_count": 53,
   "id": "136b444b",
   "metadata": {},
   "outputs": [
    {
     "data": {
      "text/html": [
       "<div>\n",
       "<style scoped>\n",
       "    .dataframe tbody tr th:only-of-type {\n",
       "        vertical-align: middle;\n",
       "    }\n",
       "\n",
       "    .dataframe tbody tr th {\n",
       "        vertical-align: top;\n",
       "    }\n",
       "\n",
       "    .dataframe thead th {\n",
       "        text-align: right;\n",
       "    }\n",
       "</style>\n",
       "<table border=\"1\" class=\"dataframe\">\n",
       "  <thead>\n",
       "    <tr style=\"text-align: right;\">\n",
       "      <th></th>\n",
       "      <th>MovieName</th>\n",
       "      <th>BoxOfficeCollection</th>\n",
       "    </tr>\n",
       "  </thead>\n",
       "  <tbody>\n",
       "    <tr>\n",
       "      <th>9</th>\n",
       "      <td>Gangoobai</td>\n",
       "      <td>0.01</td>\n",
       "    </tr>\n",
       "    <tr>\n",
       "      <th>15</th>\n",
       "      <td>Bandook</td>\n",
       "      <td>0.09</td>\n",
       "    </tr>\n",
       "    <tr>\n",
       "      <th>53</th>\n",
       "      <td>Sona Spa</td>\n",
       "      <td>0.24</td>\n",
       "    </tr>\n",
       "    <tr>\n",
       "      <th>3</th>\n",
       "      <td>Rajdhani Express</td>\n",
       "      <td>0.35</td>\n",
       "    </tr>\n",
       "    <tr>\n",
       "      <th>49</th>\n",
       "      <td>Kya Dilli Kya Lahore</td>\n",
       "      <td>0.50</td>\n",
       "    </tr>\n",
       "    <tr>\n",
       "      <th>...</th>\n",
       "      <td>...</td>\n",
       "      <td>...</td>\n",
       "    </tr>\n",
       "    <tr>\n",
       "      <th>92</th>\n",
       "      <td>Bang Bang</td>\n",
       "      <td>340.00</td>\n",
       "    </tr>\n",
       "    <tr>\n",
       "      <th>43</th>\n",
       "      <td>Kick</td>\n",
       "      <td>377.00</td>\n",
       "    </tr>\n",
       "    <tr>\n",
       "      <th>26</th>\n",
       "      <td>Happy New Year</td>\n",
       "      <td>383.00</td>\n",
       "    </tr>\n",
       "    <tr>\n",
       "      <th>115</th>\n",
       "      <td>Chennai Express</td>\n",
       "      <td>395.00</td>\n",
       "    </tr>\n",
       "    <tr>\n",
       "      <th>89</th>\n",
       "      <td>PK</td>\n",
       "      <td>735.00</td>\n",
       "    </tr>\n",
       "  </tbody>\n",
       "</table>\n",
       "<p>149 rows × 2 columns</p>\n",
       "</div>"
      ],
      "text/plain": [
       "                MovieName  BoxOfficeCollection\n",
       "9               Gangoobai                 0.01\n",
       "15                Bandook                 0.09\n",
       "53               Sona Spa                 0.24\n",
       "3        Rajdhani Express                 0.35\n",
       "49   Kya Dilli Kya Lahore                 0.50\n",
       "..                    ...                  ...\n",
       "92              Bang Bang               340.00\n",
       "43                   Kick               377.00\n",
       "26         Happy New Year               383.00\n",
       "115       Chennai Express               395.00\n",
       "89                     PK               735.00\n",
       "\n",
       "[149 rows x 2 columns]"
      ]
     },
     "execution_count": 53,
     "metadata": {},
     "output_type": "execute_result"
    }
   ],
   "source": [
    "n3"
   ]
  },
  {
   "cell_type": "code",
   "execution_count": 54,
   "id": "8d809054",
   "metadata": {},
   "outputs": [
    {
     "data": {
      "text/html": [
       "<div>\n",
       "<style scoped>\n",
       "    .dataframe tbody tr th:only-of-type {\n",
       "        vertical-align: middle;\n",
       "    }\n",
       "\n",
       "    .dataframe tbody tr th {\n",
       "        vertical-align: top;\n",
       "    }\n",
       "\n",
       "    .dataframe thead th {\n",
       "        text-align: right;\n",
       "    }\n",
       "</style>\n",
       "<table border=\"1\" class=\"dataframe\">\n",
       "  <thead>\n",
       "    <tr style=\"text-align: right;\">\n",
       "      <th></th>\n",
       "      <th>MovieName</th>\n",
       "      <th>BoxOfficeCollection</th>\n",
       "    </tr>\n",
       "  </thead>\n",
       "  <tbody>\n",
       "    <tr>\n",
       "      <th>101</th>\n",
       "      <td>Bhaag Milkha Bhaag</td>\n",
       "      <td>164.0</td>\n",
       "    </tr>\n",
       "    <tr>\n",
       "      <th>78</th>\n",
       "      <td>Singham Returns</td>\n",
       "      <td>200.0</td>\n",
       "    </tr>\n",
       "    <tr>\n",
       "      <th>132</th>\n",
       "      <td>Grand Masti</td>\n",
       "      <td>298.0</td>\n",
       "    </tr>\n",
       "    <tr>\n",
       "      <th>119</th>\n",
       "      <td>Krrish 3</td>\n",
       "      <td>300.0</td>\n",
       "    </tr>\n",
       "    <tr>\n",
       "      <th>82</th>\n",
       "      <td>Yeh Jawaani Hai Deewani</td>\n",
       "      <td>311.0</td>\n",
       "    </tr>\n",
       "    <tr>\n",
       "      <th>92</th>\n",
       "      <td>Bang Bang</td>\n",
       "      <td>340.0</td>\n",
       "    </tr>\n",
       "    <tr>\n",
       "      <th>43</th>\n",
       "      <td>Kick</td>\n",
       "      <td>377.0</td>\n",
       "    </tr>\n",
       "    <tr>\n",
       "      <th>26</th>\n",
       "      <td>Happy New Year</td>\n",
       "      <td>383.0</td>\n",
       "    </tr>\n",
       "    <tr>\n",
       "      <th>115</th>\n",
       "      <td>Chennai Express</td>\n",
       "      <td>395.0</td>\n",
       "    </tr>\n",
       "    <tr>\n",
       "      <th>89</th>\n",
       "      <td>PK</td>\n",
       "      <td>735.0</td>\n",
       "    </tr>\n",
       "  </tbody>\n",
       "</table>\n",
       "</div>"
      ],
      "text/plain": [
       "                   MovieName  BoxOfficeCollection\n",
       "101       Bhaag Milkha Bhaag                164.0\n",
       "78           Singham Returns                200.0\n",
       "132              Grand Masti                298.0\n",
       "119                 Krrish 3                300.0\n",
       "82   Yeh Jawaani Hai Deewani                311.0\n",
       "92                 Bang Bang                340.0\n",
       "43                      Kick                377.0\n",
       "26            Happy New Year                383.0\n",
       "115          Chennai Express                395.0\n",
       "89                        PK                735.0"
      ]
     },
     "execution_count": 54,
     "metadata": {},
     "output_type": "execute_result"
    }
   ],
   "source": [
    "n3.tail(10)"
   ]
  },
  {
   "cell_type": "code",
   "execution_count": 55,
   "id": "56efaa29",
   "metadata": {},
   "outputs": [],
   "source": [
    "df[\"roi\"]=(df[\"BoxOfficeCollection\"]-df[\"Budget\"])/df[\"Budget\"]"
   ]
  },
  {
   "cell_type": "code",
   "execution_count": 56,
   "id": "22f5afe8",
   "metadata": {},
   "outputs": [
    {
     "data": {
      "text/html": [
       "<div>\n",
       "<style scoped>\n",
       "    .dataframe tbody tr th:only-of-type {\n",
       "        vertical-align: middle;\n",
       "    }\n",
       "\n",
       "    .dataframe tbody tr th {\n",
       "        vertical-align: top;\n",
       "    }\n",
       "\n",
       "    .dataframe thead th {\n",
       "        text-align: right;\n",
       "    }\n",
       "</style>\n",
       "<table border=\"1\" class=\"dataframe\">\n",
       "  <thead>\n",
       "    <tr style=\"text-align: right;\">\n",
       "      <th></th>\n",
       "      <th>SlNo</th>\n",
       "      <th>Release Date</th>\n",
       "      <th>MovieName</th>\n",
       "      <th>ReleaseTime</th>\n",
       "      <th>Genre</th>\n",
       "      <th>Budget</th>\n",
       "      <th>BoxOfficeCollection</th>\n",
       "      <th>YoutubeViews</th>\n",
       "      <th>YoutubeLikes</th>\n",
       "      <th>YoutubeDislikes</th>\n",
       "      <th>month</th>\n",
       "      <th>roi</th>\n",
       "    </tr>\n",
       "  </thead>\n",
       "  <tbody>\n",
       "    <tr>\n",
       "      <th>0</th>\n",
       "      <td>1</td>\n",
       "      <td>18-Apr-14</td>\n",
       "      <td>2 States</td>\n",
       "      <td>LW</td>\n",
       "      <td>Romance</td>\n",
       "      <td>36</td>\n",
       "      <td>104.00</td>\n",
       "      <td>8576361</td>\n",
       "      <td>26622</td>\n",
       "      <td>2527</td>\n",
       "      <td>4</td>\n",
       "      <td>1.888889</td>\n",
       "    </tr>\n",
       "    <tr>\n",
       "      <th>1</th>\n",
       "      <td>2</td>\n",
       "      <td>4-Jan-13</td>\n",
       "      <td>Table No. 21</td>\n",
       "      <td>N</td>\n",
       "      <td>Thriller</td>\n",
       "      <td>10</td>\n",
       "      <td>12.00</td>\n",
       "      <td>1087320</td>\n",
       "      <td>1129</td>\n",
       "      <td>137</td>\n",
       "      <td>1</td>\n",
       "      <td>0.200000</td>\n",
       "    </tr>\n",
       "    <tr>\n",
       "      <th>2</th>\n",
       "      <td>3</td>\n",
       "      <td>18-Jul-14</td>\n",
       "      <td>Amit Sahni Ki List</td>\n",
       "      <td>N</td>\n",
       "      <td>Comedy</td>\n",
       "      <td>10</td>\n",
       "      <td>4.00</td>\n",
       "      <td>572336</td>\n",
       "      <td>586</td>\n",
       "      <td>54</td>\n",
       "      <td>7</td>\n",
       "      <td>-0.600000</td>\n",
       "    </tr>\n",
       "    <tr>\n",
       "      <th>3</th>\n",
       "      <td>4</td>\n",
       "      <td>4-Jan-13</td>\n",
       "      <td>Rajdhani Express</td>\n",
       "      <td>N</td>\n",
       "      <td>Drama</td>\n",
       "      <td>7</td>\n",
       "      <td>0.35</td>\n",
       "      <td>42626</td>\n",
       "      <td>86</td>\n",
       "      <td>19</td>\n",
       "      <td>1</td>\n",
       "      <td>-0.950000</td>\n",
       "    </tr>\n",
       "    <tr>\n",
       "      <th>4</th>\n",
       "      <td>5</td>\n",
       "      <td>4-Jul-14</td>\n",
       "      <td>Bobby Jasoos</td>\n",
       "      <td>N</td>\n",
       "      <td>Comedy</td>\n",
       "      <td>18</td>\n",
       "      <td>10.80</td>\n",
       "      <td>3113427</td>\n",
       "      <td>4512</td>\n",
       "      <td>1224</td>\n",
       "      <td>7</td>\n",
       "      <td>-0.400000</td>\n",
       "    </tr>\n",
       "    <tr>\n",
       "      <th>...</th>\n",
       "      <td>...</td>\n",
       "      <td>...</td>\n",
       "      <td>...</td>\n",
       "      <td>...</td>\n",
       "      <td>...</td>\n",
       "      <td>...</td>\n",
       "      <td>...</td>\n",
       "      <td>...</td>\n",
       "      <td>...</td>\n",
       "      <td>...</td>\n",
       "      <td>...</td>\n",
       "      <td>...</td>\n",
       "    </tr>\n",
       "    <tr>\n",
       "      <th>144</th>\n",
       "      <td>145</td>\n",
       "      <td>27-Feb-15</td>\n",
       "      <td>Dum Laga Ke Haisha</td>\n",
       "      <td>N</td>\n",
       "      <td>Comedy</td>\n",
       "      <td>15</td>\n",
       "      <td>30.00</td>\n",
       "      <td>3250917</td>\n",
       "      <td>8185</td>\n",
       "      <td>615</td>\n",
       "      <td>2</td>\n",
       "      <td>1.000000</td>\n",
       "    </tr>\n",
       "    <tr>\n",
       "      <th>145</th>\n",
       "      <td>146</td>\n",
       "      <td>13-Mar-15</td>\n",
       "      <td>NH10</td>\n",
       "      <td>N</td>\n",
       "      <td>Thriller</td>\n",
       "      <td>13</td>\n",
       "      <td>32.10</td>\n",
       "      <td>5592977</td>\n",
       "      <td>15464</td>\n",
       "      <td>1513</td>\n",
       "      <td>3</td>\n",
       "      <td>1.469231</td>\n",
       "    </tr>\n",
       "    <tr>\n",
       "      <th>146</th>\n",
       "      <td>147</td>\n",
       "      <td>20-Mar-15</td>\n",
       "      <td>Dilliwali Zaalim Girlfriend</td>\n",
       "      <td>N</td>\n",
       "      <td>Comedy</td>\n",
       "      <td>32</td>\n",
       "      <td>12.00</td>\n",
       "      <td>2316047</td>\n",
       "      <td>4289</td>\n",
       "      <td>807</td>\n",
       "      <td>3</td>\n",
       "      <td>-0.625000</td>\n",
       "    </tr>\n",
       "    <tr>\n",
       "      <th>147</th>\n",
       "      <td>148</td>\n",
       "      <td>20-Mar-15</td>\n",
       "      <td>Hunterrr</td>\n",
       "      <td>N</td>\n",
       "      <td>Comedy</td>\n",
       "      <td>5</td>\n",
       "      <td>11.89</td>\n",
       "      <td>4674795</td>\n",
       "      <td>3706</td>\n",
       "      <td>762</td>\n",
       "      <td>3</td>\n",
       "      <td>1.378000</td>\n",
       "    </tr>\n",
       "    <tr>\n",
       "      <th>148</th>\n",
       "      <td>149</td>\n",
       "      <td>23-May-14</td>\n",
       "      <td>Kochadaiiyaan</td>\n",
       "      <td>HS</td>\n",
       "      <td>Action</td>\n",
       "      <td>150</td>\n",
       "      <td>120.00</td>\n",
       "      <td>4740727</td>\n",
       "      <td>13466</td>\n",
       "      <td>2649</td>\n",
       "      <td>5</td>\n",
       "      <td>-0.200000</td>\n",
       "    </tr>\n",
       "  </tbody>\n",
       "</table>\n",
       "<p>149 rows × 12 columns</p>\n",
       "</div>"
      ],
      "text/plain": [
       "     SlNo Release Date                    MovieName ReleaseTime     Genre  \\\n",
       "0       1    18-Apr-14                     2 States          LW   Romance   \n",
       "1       2     4-Jan-13                 Table No. 21           N  Thriller   \n",
       "2       3    18-Jul-14           Amit Sahni Ki List           N    Comedy   \n",
       "3       4     4-Jan-13             Rajdhani Express           N     Drama   \n",
       "4       5     4-Jul-14                 Bobby Jasoos           N    Comedy   \n",
       "..    ...          ...                          ...         ...       ...   \n",
       "144   145    27-Feb-15           Dum Laga Ke Haisha           N    Comedy   \n",
       "145   146    13-Mar-15                         NH10           N  Thriller   \n",
       "146   147    20-Mar-15  Dilliwali Zaalim Girlfriend           N    Comedy   \n",
       "147   148    20-Mar-15                     Hunterrr           N    Comedy   \n",
       "148   149    23-May-14                Kochadaiiyaan          HS    Action   \n",
       "\n",
       "     Budget  BoxOfficeCollection  YoutubeViews  YoutubeLikes  YoutubeDislikes  \\\n",
       "0        36               104.00       8576361         26622             2527   \n",
       "1        10                12.00       1087320          1129              137   \n",
       "2        10                 4.00        572336           586               54   \n",
       "3         7                 0.35         42626            86               19   \n",
       "4        18                10.80       3113427          4512             1224   \n",
       "..      ...                  ...           ...           ...              ...   \n",
       "144      15                30.00       3250917          8185              615   \n",
       "145      13                32.10       5592977         15464             1513   \n",
       "146      32                12.00       2316047          4289              807   \n",
       "147       5                11.89       4674795          3706              762   \n",
       "148     150               120.00       4740727         13466             2649   \n",
       "\n",
       "     month       roi  \n",
       "0        4  1.888889  \n",
       "1        1  0.200000  \n",
       "2        7 -0.600000  \n",
       "3        1 -0.950000  \n",
       "4        7 -0.400000  \n",
       "..     ...       ...  \n",
       "144      2  1.000000  \n",
       "145      3  1.469231  \n",
       "146      3 -0.625000  \n",
       "147      3  1.378000  \n",
       "148      5 -0.200000  \n",
       "\n",
       "[149 rows x 12 columns]"
      ]
     },
     "execution_count": 56,
     "metadata": {},
     "output_type": "execute_result"
    }
   ],
   "source": [
    "df"
   ]
  },
  {
   "cell_type": "code",
   "execution_count": 57,
   "id": "6811b7f2",
   "metadata": {},
   "outputs": [
    {
     "name": "stdout",
     "output_type": "stream",
     "text": [
      "0      1.888889\n",
      "1      0.200000\n",
      "2     -0.600000\n",
      "3     -0.950000\n",
      "4     -0.400000\n",
      "         ...   \n",
      "144    1.000000\n",
      "145    1.469231\n",
      "146   -0.625000\n",
      "147    1.378000\n",
      "148   -0.200000\n",
      "Name: roi, Length: 149, dtype: float64\n"
     ]
    }
   ],
   "source": [
    "print(df[\"roi\"])"
   ]
  },
  {
   "cell_type": "markdown",
   "id": "cb89cb3f",
   "metadata": {},
   "source": [
    "## Do the movies have higher ROI if they get released on festive seasons or long weekend? Calculate the average ROI for different release times"
   ]
  },
  {
   "cell_type": "code",
   "execution_count": 58,
   "id": "3477d9cf",
   "metadata": {},
   "outputs": [
    {
     "name": "stdout",
     "output_type": "stream",
     "text": [
      "          roi ReleaseTime\n",
      "0    1.888889          LW\n",
      "1    0.200000           N\n",
      "2   -0.600000           N\n",
      "3   -0.950000           N\n",
      "4   -0.400000           N\n",
      "..        ...         ...\n",
      "144  1.000000           N\n",
      "145  1.469231           N\n",
      "146 -0.625000           N\n",
      "147  1.378000           N\n",
      "148 -0.200000          HS\n",
      "\n",
      "[149 rows x 2 columns]\n"
     ]
    }
   ],
   "source": [
    "print(df[[\"roi\",\"ReleaseTime\"]])"
   ]
  },
  {
   "cell_type": "code",
   "execution_count": 59,
   "id": "0551450a",
   "metadata": {},
   "outputs": [
    {
     "data": {
      "text/plain": [
       "8.166666666666666"
      ]
     },
     "execution_count": 59,
     "metadata": {},
     "output_type": "execute_result"
    }
   ],
   "source": [
    "df[\"roi\"].max()\n"
   ]
  },
  {
   "cell_type": "code",
   "execution_count": 60,
   "id": "eba8f4bf",
   "metadata": {
    "scrolled": true
   },
   "outputs": [
    {
     "name": "stdout",
     "output_type": "stream",
     "text": [
      "64    N\n",
      "Name: ReleaseTime, dtype: object\n"
     ]
    }
   ],
   "source": [
    "print(df[df[\"roi\"]>8.1][\"ReleaseTime\"])"
   ]
  },
  {
   "cell_type": "code",
   "execution_count": 61,
   "id": "3f01964c",
   "metadata": {},
   "outputs": [
    {
     "data": {
      "text/html": [
       "<div>\n",
       "<style scoped>\n",
       "    .dataframe tbody tr th:only-of-type {\n",
       "        vertical-align: middle;\n",
       "    }\n",
       "\n",
       "    .dataframe tbody tr th {\n",
       "        vertical-align: top;\n",
       "    }\n",
       "\n",
       "    .dataframe thead th {\n",
       "        text-align: right;\n",
       "    }\n",
       "</style>\n",
       "<table border=\"1\" class=\"dataframe\">\n",
       "  <thead>\n",
       "    <tr style=\"text-align: right;\">\n",
       "      <th></th>\n",
       "      <th>SlNo</th>\n",
       "      <th>Budget</th>\n",
       "      <th>BoxOfficeCollection</th>\n",
       "      <th>YoutubeViews</th>\n",
       "      <th>YoutubeLikes</th>\n",
       "      <th>YoutubeDislikes</th>\n",
       "      <th>month</th>\n",
       "      <th>roi</th>\n",
       "    </tr>\n",
       "  </thead>\n",
       "  <tbody>\n",
       "    <tr>\n",
       "      <th>count</th>\n",
       "      <td>149.000000</td>\n",
       "      <td>149.000000</td>\n",
       "      <td>149.000000</td>\n",
       "      <td>1.490000e+02</td>\n",
       "      <td>149.000000</td>\n",
       "      <td>149.000000</td>\n",
       "      <td>149.000000</td>\n",
       "      <td>149.000000</td>\n",
       "    </tr>\n",
       "    <tr>\n",
       "      <th>mean</th>\n",
       "      <td>75.000000</td>\n",
       "      <td>29.442953</td>\n",
       "      <td>55.667248</td>\n",
       "      <td>3.337920e+06</td>\n",
       "      <td>7877.536913</td>\n",
       "      <td>1207.818792</td>\n",
       "      <td>5.322148</td>\n",
       "      <td>0.764387</td>\n",
       "    </tr>\n",
       "    <tr>\n",
       "      <th>std</th>\n",
       "      <td>43.156691</td>\n",
       "      <td>28.237981</td>\n",
       "      <td>94.494531</td>\n",
       "      <td>3.504407e+06</td>\n",
       "      <td>12748.047191</td>\n",
       "      <td>1852.692938</td>\n",
       "      <td>3.209505</td>\n",
       "      <td>1.840021</td>\n",
       "    </tr>\n",
       "    <tr>\n",
       "      <th>min</th>\n",
       "      <td>1.000000</td>\n",
       "      <td>2.000000</td>\n",
       "      <td>0.010000</td>\n",
       "      <td>4.354000e+03</td>\n",
       "      <td>1.000000</td>\n",
       "      <td>1.000000</td>\n",
       "      <td>1.000000</td>\n",
       "      <td>-0.995000</td>\n",
       "    </tr>\n",
       "    <tr>\n",
       "      <th>25%</th>\n",
       "      <td>38.000000</td>\n",
       "      <td>11.000000</td>\n",
       "      <td>8.780000</td>\n",
       "      <td>1.076591e+06</td>\n",
       "      <td>1377.000000</td>\n",
       "      <td>189.000000</td>\n",
       "      <td>3.000000</td>\n",
       "      <td>-0.470370</td>\n",
       "    </tr>\n",
       "    <tr>\n",
       "      <th>50%</th>\n",
       "      <td>75.000000</td>\n",
       "      <td>21.000000</td>\n",
       "      <td>28.000000</td>\n",
       "      <td>2.375050e+06</td>\n",
       "      <td>4111.000000</td>\n",
       "      <td>614.000000</td>\n",
       "      <td>5.000000</td>\n",
       "      <td>0.200000</td>\n",
       "    </tr>\n",
       "    <tr>\n",
       "      <th>75%</th>\n",
       "      <td>112.000000</td>\n",
       "      <td>35.000000</td>\n",
       "      <td>57.450000</td>\n",
       "      <td>4.550051e+06</td>\n",
       "      <td>9100.000000</td>\n",
       "      <td>1419.000000</td>\n",
       "      <td>8.000000</td>\n",
       "      <td>1.383333</td>\n",
       "    </tr>\n",
       "    <tr>\n",
       "      <th>max</th>\n",
       "      <td>149.000000</td>\n",
       "      <td>150.000000</td>\n",
       "      <td>735.000000</td>\n",
       "      <td>2.317107e+07</td>\n",
       "      <td>101275.000000</td>\n",
       "      <td>11888.000000</td>\n",
       "      <td>12.000000</td>\n",
       "      <td>8.166667</td>\n",
       "    </tr>\n",
       "  </tbody>\n",
       "</table>\n",
       "</div>"
      ],
      "text/plain": [
       "             SlNo      Budget  BoxOfficeCollection  YoutubeViews  \\\n",
       "count  149.000000  149.000000           149.000000  1.490000e+02   \n",
       "mean    75.000000   29.442953            55.667248  3.337920e+06   \n",
       "std     43.156691   28.237981            94.494531  3.504407e+06   \n",
       "min      1.000000    2.000000             0.010000  4.354000e+03   \n",
       "25%     38.000000   11.000000             8.780000  1.076591e+06   \n",
       "50%     75.000000   21.000000            28.000000  2.375050e+06   \n",
       "75%    112.000000   35.000000            57.450000  4.550051e+06   \n",
       "max    149.000000  150.000000           735.000000  2.317107e+07   \n",
       "\n",
       "        YoutubeLikes  YoutubeDislikes       month         roi  \n",
       "count     149.000000       149.000000  149.000000  149.000000  \n",
       "mean     7877.536913      1207.818792    5.322148    0.764387  \n",
       "std     12748.047191      1852.692938    3.209505    1.840021  \n",
       "min         1.000000         1.000000    1.000000   -0.995000  \n",
       "25%      1377.000000       189.000000    3.000000   -0.470370  \n",
       "50%      4111.000000       614.000000    5.000000    0.200000  \n",
       "75%      9100.000000      1419.000000    8.000000    1.383333  \n",
       "max    101275.000000     11888.000000   12.000000    8.166667  "
      ]
     },
     "execution_count": 61,
     "metadata": {},
     "output_type": "execute_result"
    }
   ],
   "source": [
    "df.describe()"
   ]
  },
  {
   "cell_type": "code",
   "execution_count": 62,
   "id": "be6cdf3a",
   "metadata": {},
   "outputs": [
    {
     "data": {
      "text/html": [
       "<div>\n",
       "<style scoped>\n",
       "    .dataframe tbody tr th:only-of-type {\n",
       "        vertical-align: middle;\n",
       "    }\n",
       "\n",
       "    .dataframe tbody tr th {\n",
       "        vertical-align: top;\n",
       "    }\n",
       "\n",
       "    .dataframe thead th {\n",
       "        text-align: right;\n",
       "    }\n",
       "</style>\n",
       "<table border=\"1\" class=\"dataframe\">\n",
       "  <thead>\n",
       "    <tr style=\"text-align: right;\">\n",
       "      <th></th>\n",
       "      <th>ReleaseTime</th>\n",
       "      <th>roi</th>\n",
       "    </tr>\n",
       "  </thead>\n",
       "  <tbody>\n",
       "    <tr>\n",
       "      <th>0</th>\n",
       "      <td>LW</td>\n",
       "      <td>1.888889</td>\n",
       "    </tr>\n",
       "    <tr>\n",
       "      <th>1</th>\n",
       "      <td>N</td>\n",
       "      <td>0.200000</td>\n",
       "    </tr>\n",
       "    <tr>\n",
       "      <th>2</th>\n",
       "      <td>N</td>\n",
       "      <td>-0.600000</td>\n",
       "    </tr>\n",
       "    <tr>\n",
       "      <th>3</th>\n",
       "      <td>N</td>\n",
       "      <td>-0.950000</td>\n",
       "    </tr>\n",
       "    <tr>\n",
       "      <th>4</th>\n",
       "      <td>N</td>\n",
       "      <td>-0.400000</td>\n",
       "    </tr>\n",
       "    <tr>\n",
       "      <th>...</th>\n",
       "      <td>...</td>\n",
       "      <td>...</td>\n",
       "    </tr>\n",
       "    <tr>\n",
       "      <th>144</th>\n",
       "      <td>N</td>\n",
       "      <td>1.000000</td>\n",
       "    </tr>\n",
       "    <tr>\n",
       "      <th>145</th>\n",
       "      <td>N</td>\n",
       "      <td>1.469231</td>\n",
       "    </tr>\n",
       "    <tr>\n",
       "      <th>146</th>\n",
       "      <td>N</td>\n",
       "      <td>-0.625000</td>\n",
       "    </tr>\n",
       "    <tr>\n",
       "      <th>147</th>\n",
       "      <td>N</td>\n",
       "      <td>1.378000</td>\n",
       "    </tr>\n",
       "    <tr>\n",
       "      <th>148</th>\n",
       "      <td>HS</td>\n",
       "      <td>-0.200000</td>\n",
       "    </tr>\n",
       "  </tbody>\n",
       "</table>\n",
       "<p>149 rows × 2 columns</p>\n",
       "</div>"
      ],
      "text/plain": [
       "    ReleaseTime       roi\n",
       "0            LW  1.888889\n",
       "1             N  0.200000\n",
       "2             N -0.600000\n",
       "3             N -0.950000\n",
       "4             N -0.400000\n",
       "..          ...       ...\n",
       "144           N  1.000000\n",
       "145           N  1.469231\n",
       "146           N -0.625000\n",
       "147           N  1.378000\n",
       "148          HS -0.200000\n",
       "\n",
       "[149 rows x 2 columns]"
      ]
     },
     "execution_count": 62,
     "metadata": {},
     "output_type": "execute_result"
    }
   ],
   "source": [
    "a=df[[\"ReleaseTime\",\"roi\"]]\n",
    "a"
   ]
  },
  {
   "cell_type": "code",
   "execution_count": 63,
   "id": "8b038bfc",
   "metadata": {
    "scrolled": true
   },
   "outputs": [
    {
     "name": "stdout",
     "output_type": "stream",
     "text": [
      "1      0.200000\n",
      "2     -0.600000\n",
      "3     -0.950000\n",
      "4     -0.400000\n",
      "6     -0.180000\n",
      "         ...   \n",
      "141   -0.050000\n",
      "144    1.000000\n",
      "145    1.469231\n",
      "146   -0.625000\n",
      "147    1.378000\n",
      "Name: roi, Length: 99, dtype: float64\n",
      "99\n",
      "0.6577216305350877\n"
     ]
    }
   ],
   "source": [
    "n=a[a[\"ReleaseTime\"]==\"N\"][\"roi\"]\n",
    "print(n)\n",
    "print(n.count())\n",
    "print(sum(n/n.count()))"
   ]
  },
  {
   "cell_type": "code",
   "execution_count": 64,
   "id": "0f8df0b3",
   "metadata": {
    "scrolled": true
   },
   "outputs": [
    {
     "name": "stdout",
     "output_type": "stream",
     "text": [
      "5      4.000000\n",
      "12     2.014286\n",
      "17    -0.400000\n",
      "19     0.260000\n",
      "29    -0.090909\n",
      "32     2.095238\n",
      "36     1.580000\n",
      "39    -0.150667\n",
      "48    -0.750000\n",
      "49    -0.928571\n",
      "55    -0.416667\n",
      "60     0.500000\n",
      "67    -0.890000\n",
      "85    -0.600000\n",
      "89     7.647059\n",
      "99     0.812500\n",
      "133    0.833333\n",
      "148   -0.200000\n",
      "Name: roi, dtype: float64\n",
      "18\n",
      "3.617468967942983\n"
     ]
    }
   ],
   "source": [
    "hs=a[a[\"ReleaseTime\"]==\"HS\"][\"roi\"]\n",
    "print(hs)\n",
    "print(hs.count())\n",
    "print(sum(n/hs.count()))"
   ]
  },
  {
   "cell_type": "code",
   "execution_count": 67,
   "id": "a8eb8287",
   "metadata": {},
   "outputs": [
    {
     "name": "stdout",
     "output_type": "stream",
     "text": [
      "0      1.888889\n",
      "8     -0.129032\n",
      "16     1.700000\n",
      "26     2.064000\n",
      "52     0.375000\n",
      "59     1.388889\n",
      "61    -0.045455\n",
      "78     1.222222\n",
      "80    -0.858000\n",
      "83     1.105263\n",
      "96    -0.588235\n",
      "114    0.827586\n",
      "130   -0.757333\n",
      "131    1.200000\n",
      "132    7.514286\n",
      "Name: roi, dtype: float64\n",
      "15\n",
      "1.1272053098737973\n"
     ]
    }
   ],
   "source": [
    "LW=a[a[\"ReleaseTime\"]==\"LW\"][\"roi\"]\n",
    "print(LW)\n",
    "print(LW.count())\n",
    "print(sum(LW/LW.count()))\n"
   ]
  },
  {
   "cell_type": "code",
   "execution_count": 68,
   "id": "fd697c78",
   "metadata": {},
   "outputs": [
    {
     "name": "stdout",
     "output_type": "stream",
     "text": [
      "18\n",
      "5      4.000000\n",
      "12     2.014286\n",
      "17    -0.400000\n",
      "19     0.260000\n",
      "29    -0.090909\n",
      "32     2.095238\n",
      "36     1.580000\n",
      "39    -0.150667\n",
      "48    -0.750000\n",
      "49    -0.928571\n",
      "55    -0.416667\n",
      "60     0.500000\n",
      "67    -0.890000\n",
      "85    -0.600000\n",
      "89     7.647059\n",
      "99     0.812500\n",
      "133    0.833333\n",
      "148   -0.200000\n",
      "Name: roi, dtype: float64\n",
      "0.8508667840873723\n"
     ]
    }
   ],
   "source": [
    "hs=a[a[\"ReleaseTime\"]==\"HS\"][\"roi\"]\n",
    "print(hs.count())\n",
    "print(hs)\n",
    "print(sum(hs/hs.count()))"
   ]
  },
  {
   "cell_type": "code",
   "execution_count": 69,
   "id": "6be1d170",
   "metadata": {},
   "outputs": [],
   "source": [
    "b=a.groupby([\"ReleaseTime\",\"roi\"])"
   ]
  },
  {
   "cell_type": "code",
   "execution_count": 70,
   "id": "db997e10",
   "metadata": {},
   "outputs": [
    {
     "data": {
      "text/html": [
       "<div>\n",
       "<style scoped>\n",
       "    .dataframe tbody tr th:only-of-type {\n",
       "        vertical-align: middle;\n",
       "    }\n",
       "\n",
       "    .dataframe tbody tr th {\n",
       "        vertical-align: top;\n",
       "    }\n",
       "\n",
       "    .dataframe thead th {\n",
       "        text-align: right;\n",
       "    }\n",
       "</style>\n",
       "<table border=\"1\" class=\"dataframe\">\n",
       "  <thead>\n",
       "    <tr style=\"text-align: right;\">\n",
       "      <th></th>\n",
       "      <th></th>\n",
       "    </tr>\n",
       "    <tr>\n",
       "      <th>ReleaseTime</th>\n",
       "      <th>roi</th>\n",
       "    </tr>\n",
       "  </thead>\n",
       "  <tbody>\n",
       "    <tr>\n",
       "      <th rowspan=\"5\" valign=\"top\">FS</th>\n",
       "      <th>-0.926667</th>\n",
       "    </tr>\n",
       "    <tr>\n",
       "      <th>-0.833333</th>\n",
       "    </tr>\n",
       "    <tr>\n",
       "      <th>-0.625000</th>\n",
       "    </tr>\n",
       "    <tr>\n",
       "      <th>-0.464286</th>\n",
       "    </tr>\n",
       "    <tr>\n",
       "      <th>-0.363636</th>\n",
       "    </tr>\n",
       "    <tr>\n",
       "      <th>...</th>\n",
       "      <th>...</th>\n",
       "    </tr>\n",
       "    <tr>\n",
       "      <th rowspan=\"5\" valign=\"top\">N</th>\n",
       "      <th>5.500000</th>\n",
       "    </tr>\n",
       "    <tr>\n",
       "      <th>5.933333</th>\n",
       "    </tr>\n",
       "    <tr>\n",
       "      <th>6.240000</th>\n",
       "    </tr>\n",
       "    <tr>\n",
       "      <th>7.500000</th>\n",
       "    </tr>\n",
       "    <tr>\n",
       "      <th>8.166667</th>\n",
       "    </tr>\n",
       "  </tbody>\n",
       "</table>\n",
       "<p>143 rows × 0 columns</p>\n",
       "</div>"
      ],
      "text/plain": [
       "Empty DataFrame\n",
       "Columns: []\n",
       "Index: [(FS, -0.9266666666666666), (FS, -0.8333333333333334), (FS, -0.625), (FS, -0.4642857142857143), (FS, -0.36363636363636365), (FS, -0.2), (FS, -0.1), (FS, 0.45), (FS, 0.4666666666666667), (FS, 0.875), (FS, 1.0833333333333333), (FS, 1.4285714285714286), (FS, 1.608695652173913), (FS, 1.875), (FS, 2.347826086956522), (FS, 4.266666666666667), (FS, 5.666666666666667), (HS, -0.9285714285714286), (HS, -0.89), (HS, -0.75), (HS, -0.6), (HS, -0.4166666666666667), (HS, -0.4), (HS, -0.2), (HS, -0.15066666666666662), (HS, -0.09090909090909091), (HS, 0.25999999999999995), (HS, 0.5), (HS, 0.8125), (HS, 0.8333333333333334), (HS, 1.58), (HS, 2.0142857142857142), (HS, 2.0952380952380953), (HS, 4.0), (HS, 7.647058823529412), (LW, -0.8580000000000001), (LW, -0.7573333333333333), (LW, -0.5882352941176471), (LW, -0.12903225806451613), (LW, -0.045454545454545456), (LW, 0.375), (LW, 0.8275862068965517), (LW, 1.105263157894737), (LW, 1.2), (LW, 1.2222222222222223), (LW, 1.3888888888888888), (LW, 1.7), (LW, 1.8888888888888888), (LW, 2.064), (LW, 7.514285714285714), (N, -0.995), (N, -0.9775), (N, -0.976), (N, -0.9500000000000001), (N, -0.8888888888888888), (N, -0.875), (N, -0.8709677419354839), (N, -0.86), (N, -0.84375), (N, -0.828), (N, -0.8214285714285714), (N, -0.7916666666666666), (N, -0.7857142857142857), (N, -0.7403846153846154), (N, -0.7333333333333333), (N, -0.7), (N, -0.635), (N, -0.625), (N, -0.6), (N, -0.5833333333333334), (N, -0.5783333333333334), (N, -0.5650000000000001), (N, -0.56), (N, -0.5555555555555556), (N, -0.5520833333333334), (N, -0.55), (N, -0.5), (N, -0.4703703703703703), (N, -0.45454545454545453), (N, -0.44), (N, -0.39999999999999997), (N, -0.36166666666666664), (N, -0.2975), (N, -0.24400000000000005), (N, -0.2), (N, -0.17999999999999997), (N, -0.16666666666666666), (N, -0.15428571428571425), (N, -0.15), (N, -0.14285714285714285), (N, -0.09166666666666666), (N, -0.075), (N, -0.07142857142857142), (N, -0.05), (N, 0.02857142857142857), (N, 0.037037037037037035), (N, 0.06666666666666667), (N, 0.09749999999999992), (N, 0.15), (N, 0.16400000000000006), ...]\n",
       "\n",
       "[143 rows x 0 columns]"
      ]
     },
     "execution_count": 70,
     "metadata": {},
     "output_type": "execute_result"
    }
   ],
   "source": [
    "b.count()"
   ]
  },
  {
   "cell_type": "markdown",
   "id": "04845c20",
   "metadata": {},
   "source": [
    "### Draw a histogram and a distribution plot to find out the distribution of movie budgets. Interpret the plot to conclude if the most movies are high or low budgeted movies."
   ]
  },
  {
   "cell_type": "code",
   "execution_count": 71,
   "id": "1e827e96",
   "metadata": {},
   "outputs": [
    {
     "data": {
      "image/png": "[encoded data removed]",
      "text/plain": [
       "<Figure size 432x288 with 1 Axes>"
      ]
     },
     "metadata": {
      "needs_background": "light"
     },
     "output_type": "display_data"
    },
    {
     "data": {
      "image/png": "[encoded data removed]",
      "text/plain": [
       "<Figure size 360x360 with 1 Axes>"
      ]
     },
     "metadata": {
      "needs_background": "light"
     },
     "output_type": "display_data"
    }
   ],
   "source": [
    "import matplotlib.pyplot as plt\n",
    "import seaborn as sns\n",
    "\n",
    "plt.hist(df[\"Budget\"])\n",
    "sns.displot(df[\"Budget\"])\n",
    "\n",
    "plt.show()"
   ]
  },
  {
   "cell_type": "code",
   "execution_count": 72,
   "id": "3ee91c44",
   "metadata": {},
   "outputs": [
    {
     "name": "stderr",
     "output_type": "stream",
     "text": [
      "C:\\Users\\PRIYANKA\\anaconda3\\lib\\site-packages\\seaborn\\distributions.py:2619: FutureWarning: `distplot` is a deprecated function and will be removed in a future version. Please adapt your code to use either `displot` (a figure-level function with similar flexibility) or `histplot` (an axes-level function for histograms).\n",
      "  warnings.warn(msg, FutureWarning)\n"
     ]
    },
    {
     "data": {
      "text/plain": [
       "<AxesSubplot:xlabel='Budget', ylabel='Density'>"
      ]
     },
     "execution_count": 72,
     "metadata": {},
     "output_type": "execute_result"
    },
    {
     "data": {
      "image/png": "[encoded data removed]",
      "text/plain": [
       "<Figure size 432x288 with 1 Axes>"
      ]
     },
     "metadata": {
      "needs_background": "light"
     },
     "output_type": "display_data"
    }
   ],
   "source": [
    "sns.distplot(df[\"Budget\"])"
   ]
  },
  {
   "cell_type": "markdown",
   "id": "9ea0d7a7",
   "metadata": {},
   "source": [
    "### Compare the distribution of ROIs between movies with comedy genre and drama. Which genre typically sees higher ROIs?"
   ]
  },
  {
   "cell_type": "code",
   "execution_count": 73,
   "id": "e11ec901",
   "metadata": {},
   "outputs": [
    {
     "data": {
      "text/plain": [
       "0       Romance\n",
       "1      Thriller\n",
       "2        Comedy\n",
       "3         Drama\n",
       "4        Comedy\n",
       "         ...   \n",
       "144      Comedy\n",
       "145    Thriller\n",
       "146      Comedy\n",
       "147      Comedy\n",
       "148      Action\n",
       "Name: Genre, Length: 149, dtype: object"
      ]
     },
     "execution_count": 73,
     "metadata": {},
     "output_type": "execute_result"
    }
   ],
   "source": [
    "a=df[\"Genre\"]\n",
    "a"
   ]
  },
  {
   "cell_type": "code",
   "execution_count": 74,
   "id": "b1c3f1f3",
   "metadata": {},
   "outputs": [
    {
     "name": "stderr",
     "output_type": "stream",
     "text": [
      "C:\\Users\\PRIYANKA\\anaconda3\\lib\\site-packages\\seaborn\\distributions.py:2619: FutureWarning: `distplot` is a deprecated function and will be removed in a future version. Please adapt your code to use either `displot` (a figure-level function with similar flexibility) or `histplot` (an axes-level function for histograms).\n",
      "  warnings.warn(msg, FutureWarning)\n"
     ]
    },
    {
     "data": {
      "text/plain": [
       "<AxesSubplot:xlabel='roi', ylabel='Density'>"
      ]
     },
     "execution_count": 74,
     "metadata": {},
     "output_type": "execute_result"
    },
    {
     "data": {
      "image/png": "[encoded data removed]",
      "text/plain": [
       "<Figure size 432x288 with 1 Axes>"
      ]
     },
     "metadata": {
      "needs_background": "light"
     },
     "output_type": "display_data"
    }
   ],
   "source": [
    "sns.distplot(df[df[\"Genre\"]==\"Comedy\"][\"roi\"])"
   ]
  },
  {
   "cell_type": "code",
   "execution_count": 75,
   "id": "bf45c912",
   "metadata": {},
   "outputs": [
    {
     "name": "stderr",
     "output_type": "stream",
     "text": [
      "C:\\Users\\PRIYANKA\\anaconda3\\lib\\site-packages\\seaborn\\distributions.py:2619: FutureWarning: `distplot` is a deprecated function and will be removed in a future version. Please adapt your code to use either `displot` (a figure-level function with similar flexibility) or `histplot` (an axes-level function for histograms).\n",
      "  warnings.warn(msg, FutureWarning)\n"
     ]
    },
    {
     "data": {
      "text/plain": [
       "<AxesSubplot:xlabel='roi', ylabel='Density'>"
      ]
     },
     "execution_count": 75,
     "metadata": {},
     "output_type": "execute_result"
    },
    {
     "data": {
      "image/png": "[encoded data removed]",
      "text/plain": [
       "<Figure size 432x288 with 1 Axes>"
      ]
     },
     "metadata": {
      "needs_background": "light"
     },
     "output_type": "display_data"
    }
   ],
   "source": [
    "sns.distplot(df[df[\"Genre\"]==\"Drama\"][\"roi\"])"
   ]
  },
  {
   "cell_type": "markdown",
   "id": "4f2157ff",
   "metadata": {},
   "source": [
    "### Is there a correlation between box office collection and YouTube likes? Is the correlation positive or negative?"
   ]
  },
  {
   "cell_type": "code",
   "execution_count": 77,
   "id": "a1d69827",
   "metadata": {},
   "outputs": [
    {
     "data": {
      "text/plain": [
       "0.6825165877731297"
      ]
     },
     "execution_count": 77,
     "metadata": {},
     "output_type": "execute_result"
    }
   ],
   "source": [
    "df[\"BoxOfficeCollection\"].corr(df[\"YoutubeLikes\"])"
   ]
  },
  {
   "cell_type": "markdown",
   "id": "5b061076",
   "metadata": {},
   "source": [
    "### Which genre of movies typically sees more YouTube likes? Draw boxplots for each genre of movies to compare."
   ]
  },
  {
   "cell_type": "code",
   "execution_count": 79,
   "id": "f06abe76",
   "metadata": {},
   "outputs": [
    {
     "data": {
      "text/plain": [
       "<AxesSubplot:xlabel='Genre', ylabel='YoutubeLikes'>"
      ]
     },
     "execution_count": 79,
     "metadata": {},
     "output_type": "execute_result"
    },
    {
     "data": {
      "image/png": "[encoded data removed]",
      "text/plain": [
       "<Figure size 432x288 with 1 Axes>"
      ]
     },
     "metadata": {
      "needs_background": "light"
     },
     "output_type": "display_data"
    }
   ],
   "source": [
    "sns.boxplot(data=df, x='Genre',y='YoutubeLikes')"
   ]
  },
  {
   "cell_type": "markdown",
   "id": "b2f9d559",
   "metadata": {},
   "source": [
    "### which of the variables among Budget, BoxOfficeCollection, YoutubeView, YoutubeLikes, YoutubeDislikes are highly correlated? Note: Draw pair plot or heatmap.**"
   ]
  },
  {
   "cell_type": "code",
   "execution_count": 80,
   "id": "cfe92bc4",
   "metadata": {},
   "outputs": [
    {
     "data": {
      "text/plain": [
       "<seaborn.axisgrid.PairGrid at 0x238fe0b75b0>"
      ]
     },
     "execution_count": 80,
     "metadata": {},
     "output_type": "execute_result"
    },
    {
     "data": {
      "image/png": "[encoded data removed]",
      "text/plain": [
       "<Figure size 1440x1440 with 72 Axes>"
      ]
     },
     "metadata": {
      "needs_background": "light"
     },
     "output_type": "display_data"
    }
   ],
   "source": [
    "sns.pairplot(df)"
   ]
  },
  {
   "cell_type": "code",
   "execution_count": 81,
   "id": "c491ed92",
   "metadata": {},
   "outputs": [
    {
     "data": {
      "text/html": [
       "<div>\n",
       "<style scoped>\n",
       "    .dataframe tbody tr th:only-of-type {\n",
       "        vertical-align: middle;\n",
       "    }\n",
       "\n",
       "    .dataframe tbody tr th {\n",
       "        vertical-align: top;\n",
       "    }\n",
       "\n",
       "    .dataframe thead th {\n",
       "        text-align: right;\n",
       "    }\n",
       "</style>\n",
       "<table border=\"1\" class=\"dataframe\">\n",
       "  <thead>\n",
       "    <tr style=\"text-align: right;\">\n",
       "      <th></th>\n",
       "      <th>SlNo</th>\n",
       "      <th>Budget</th>\n",
       "      <th>BoxOfficeCollection</th>\n",
       "      <th>YoutubeViews</th>\n",
       "      <th>YoutubeLikes</th>\n",
       "      <th>YoutubeDislikes</th>\n",
       "      <th>month</th>\n",
       "      <th>roi</th>\n",
       "    </tr>\n",
       "  </thead>\n",
       "  <tbody>\n",
       "    <tr>\n",
       "      <th>SlNo</th>\n",
       "      <td>1.000000</td>\n",
       "      <td>0.116899</td>\n",
       "      <td>0.036908</td>\n",
       "      <td>0.025027</td>\n",
       "      <td>0.018163</td>\n",
       "      <td>0.035949</td>\n",
       "      <td>0.219954</td>\n",
       "      <td>0.037314</td>\n",
       "    </tr>\n",
       "    <tr>\n",
       "      <th>Budget</th>\n",
       "      <td>0.116899</td>\n",
       "      <td>1.000000</td>\n",
       "      <td>0.650401</td>\n",
       "      <td>0.589038</td>\n",
       "      <td>0.608916</td>\n",
       "      <td>0.665343</td>\n",
       "      <td>0.258457</td>\n",
       "      <td>0.072050</td>\n",
       "    </tr>\n",
       "    <tr>\n",
       "      <th>BoxOfficeCollection</th>\n",
       "      <td>0.036908</td>\n",
       "      <td>0.650401</td>\n",
       "      <td>1.000000</td>\n",
       "      <td>0.588632</td>\n",
       "      <td>0.682517</td>\n",
       "      <td>0.623941</td>\n",
       "      <td>0.280943</td>\n",
       "      <td>0.585042</td>\n",
       "    </tr>\n",
       "    <tr>\n",
       "      <th>YoutubeViews</th>\n",
       "      <td>0.025027</td>\n",
       "      <td>0.589038</td>\n",
       "      <td>0.588632</td>\n",
       "      <td>1.000000</td>\n",
       "      <td>0.884055</td>\n",
       "      <td>0.846739</td>\n",
       "      <td>0.289593</td>\n",
       "      <td>0.252847</td>\n",
       "    </tr>\n",
       "    <tr>\n",
       "      <th>YoutubeLikes</th>\n",
       "      <td>0.018163</td>\n",
       "      <td>0.608916</td>\n",
       "      <td>0.682517</td>\n",
       "      <td>0.884055</td>\n",
       "      <td>1.000000</td>\n",
       "      <td>0.859730</td>\n",
       "      <td>0.267112</td>\n",
       "      <td>0.291302</td>\n",
       "    </tr>\n",
       "    <tr>\n",
       "      <th>YoutubeDislikes</th>\n",
       "      <td>0.035949</td>\n",
       "      <td>0.665343</td>\n",
       "      <td>0.623941</td>\n",
       "      <td>0.846739</td>\n",
       "      <td>0.859730</td>\n",
       "      <td>1.000000</td>\n",
       "      <td>0.353301</td>\n",
       "      <td>0.201533</td>\n",
       "    </tr>\n",
       "    <tr>\n",
       "      <th>month</th>\n",
       "      <td>0.219954</td>\n",
       "      <td>0.258457</td>\n",
       "      <td>0.280943</td>\n",
       "      <td>0.289593</td>\n",
       "      <td>0.267112</td>\n",
       "      <td>0.353301</td>\n",
       "      <td>1.000000</td>\n",
       "      <td>0.205995</td>\n",
       "    </tr>\n",
       "    <tr>\n",
       "      <th>roi</th>\n",
       "      <td>0.037314</td>\n",
       "      <td>0.072050</td>\n",
       "      <td>0.585042</td>\n",
       "      <td>0.252847</td>\n",
       "      <td>0.291302</td>\n",
       "      <td>0.201533</td>\n",
       "      <td>0.205995</td>\n",
       "      <td>1.000000</td>\n",
       "    </tr>\n",
       "  </tbody>\n",
       "</table>\n",
       "</div>"
      ],
      "text/plain": [
       "                         SlNo    Budget  BoxOfficeCollection  YoutubeViews  \\\n",
       "SlNo                 1.000000  0.116899             0.036908      0.025027   \n",
       "Budget               0.116899  1.000000             0.650401      0.589038   \n",
       "BoxOfficeCollection  0.036908  0.650401             1.000000      0.588632   \n",
       "YoutubeViews         0.025027  0.589038             0.588632      1.000000   \n",
       "YoutubeLikes         0.018163  0.608916             0.682517      0.884055   \n",
       "YoutubeDislikes      0.035949  0.665343             0.623941      0.846739   \n",
       "month                0.219954  0.258457             0.280943      0.289593   \n",
       "roi                  0.037314  0.072050             0.585042      0.252847   \n",
       "\n",
       "                     YoutubeLikes  YoutubeDislikes     month       roi  \n",
       "SlNo                     0.018163         0.035949  0.219954  0.037314  \n",
       "Budget                   0.608916         0.665343  0.258457  0.072050  \n",
       "BoxOfficeCollection      0.682517         0.623941  0.280943  0.585042  \n",
       "YoutubeViews             0.884055         0.846739  0.289593  0.252847  \n",
       "YoutubeLikes             1.000000         0.859730  0.267112  0.291302  \n",
       "YoutubeDislikes          0.859730         1.000000  0.353301  0.201533  \n",
       "month                    0.267112         0.353301  1.000000  0.205995  \n",
       "roi                      0.291302         0.201533  0.205995  1.000000  "
      ]
     },
     "execution_count": 81,
     "metadata": {},
     "output_type": "execute_result"
    }
   ],
   "source": [
    "df.corr()"
   ]
  },
  {
   "cell_type": "code",
   "execution_count": null,
   "id": "b1b94043",
   "metadata": {},
   "outputs": [],
   "source": []
  }
 ],
 "metadata": {
  "kernelspec": {
   "display_name": "Python 3 (ipykernel)",
   "language": "python",
   "name": "python3"
  },
  "language_info": {
   "codemirror_mode": {
    "name": "ipython",
    "version": 3
   },
   "file_extension": ".py",
   "mimetype": "text/x-python",
   "name": "python",
   "nbconvert_exporter": "python",
   "pygments_lexer": "ipython3",
   "version": "3.9.12"
  }
 },
 "nbformat": 4,
 "nbformat_minor": 5
}
