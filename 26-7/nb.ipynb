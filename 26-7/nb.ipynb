{
 "cells": [
  {
   "cell_type": "code",
   "execution_count": 3,
   "id": "7c16a37d",
   "metadata": {},
   "outputs": [],
   "source": [
    "import pandas as pd\n",
    "from sklearn.naive_bayes import GaussianNB\n",
    "model=GaussianNB()\n"
   ]
  },
  {
   "cell_type": "code",
   "execution_count": 4,
   "id": "b8ebdc18",
   "metadata": {},
   "outputs": [],
   "source": [
    "train=pd.read_csv(\"train_LZV4RXX.csv\")\n",
    "test=pd.read_csv(\"test_4zJg83n.csv\")\n",
    "x1=train[[\"loan_amount\",\"no_of_loans\"]].values.reshape(-1,2)\n",
    "y1=train[\"loan_default\"].values"
   ]
  },
  {
   "cell_type": "code",
   "execution_count": 5,
   "id": "5a915f70",
   "metadata": {},
   "outputs": [
    {
     "data": {
      "text/plain": [
       "array([0, 0, 0, ..., 0, 0, 0], dtype=int64)"
      ]
     },
     "execution_count": 5,
     "metadata": {},
     "output_type": "execute_result"
    }
   ],
   "source": [
    "model.fit(x1,y1)\n",
    "model.predict(x1)"
   ]
  },
  {
   "cell_type": "code",
   "execution_count": 6,
   "id": "c34fb419",
   "metadata": {},
   "outputs": [],
   "source": [
    "b=test[[\"loan_amount\",\"no_of_loans\"]].values.reshape(-1,2)"
   ]
  },
  {
   "cell_type": "code",
   "execution_count": 7,
   "id": "8b25effb",
   "metadata": {},
   "outputs": [
    {
     "data": {
      "text/plain": [
       "array([0, 0, 0, ..., 0, 0, 0], dtype=int64)"
      ]
     },
     "execution_count": 7,
     "metadata": {},
     "output_type": "execute_result"
    }
   ],
   "source": [
    "model.predict(b)"
   ]
  },
  {
   "cell_type": "code",
   "execution_count": null,
   "id": "4c74ed01",
   "metadata": {},
   "outputs": [],
   "source": []
  }
 ],
 "metadata": {
  "kernelspec": {
   "display_name": "Python 3 (ipykernel)",
   "language": "python",
   "name": "python3"
  },
  "language_info": {
   "codemirror_mode": {
    "name": "ipython",
    "version": 3
   },
   "file_extension": ".py",
   "mimetype": "text/x-python",
   "name": "python",
   "nbconvert_exporter": "python",
   "pygments_lexer": "ipython3",
   "version": "3.9.12"
  }
 },
 "nbformat": 4,
 "nbformat_minor": 5
}
