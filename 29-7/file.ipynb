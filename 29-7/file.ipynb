{
 "cells": [
  {
   "cell_type": "code",
   "execution_count": 18,
   "id": "6a993853",
   "metadata": {},
   "outputs": [],
   "source": [
    "f=open(\"f1.txt\",\"w\")\n",
    "f.write(\"abcdefgABCRDOLwuert192030\")\n",
    "f.close()\n",
    "\n"
   ]
  },
  {
   "cell_type": "code",
   "execution_count": 31,
   "id": "544ff8be",
   "metadata": {},
   "outputs": [
    {
     "name": "stdout",
     "output_type": "stream",
     "text": [
      "success\n"
     ]
    }
   ],
   "source": [
    "h=open(\"f1.txt\",\"r\")\n",
    "c=h.readlines()\n",
    "a=open(\"num.txt\",\"w\")\n",
    "for line in c:\n",
    "    for i in line:\n",
    "        if i.isdigit()==True:\n",
    "            b=a.write(i)\n",
    "file=open(\"num.txt\",\"r\")\n",
    "file.read()\n",
    "print(\"success\")"
   ]
  },
  {
   "cell_type": "code",
   "execution_count": 32,
   "id": "bc317008",
   "metadata": {},
   "outputs": [
    {
     "name": "stdout",
     "output_type": "stream",
     "text": [
      "success\n"
     ]
    }
   ],
   "source": [
    "h=open(\"f1.txt\",\"r\")\n",
    "c=h.readlines()\n",
    "a=open(\"upper.txt\",\"w\")\n",
    "for line in c:\n",
    "    for i in line:\n",
    "        if i.isupper()==True:\n",
    "            b=a.write(i)\n",
    "file=open(\"upper.txt\",\"r\")\n",
    "file.read()\n",
    "print(\"success\")"
   ]
  },
  {
   "cell_type": "code",
   "execution_count": 34,
   "id": "140e04c1",
   "metadata": {},
   "outputs": [
    {
     "name": "stdout",
     "output_type": "stream",
     "text": [
      "success\n"
     ]
    }
   ],
   "source": [
    "h=open(\"f1.txt\",\"r\")\n",
    "c=h.readlines()\n",
    "a=open(\"lower.txt\",\"w\")\n",
    "for line in c:\n",
    "    for i in line:\n",
    "        if i.islower()==True:\n",
    "            b=a.write(i)\n",
    "file=open(\"lower.txt\",\"r\")\n",
    "file.read()\n",
    "print(\"success\")"
   ]
  },
  {
   "cell_type": "code",
   "execution_count": 40,
   "id": "a5c833fb",
   "metadata": {},
   "outputs": [
    {
     "name": "stdout",
     "output_type": "stream",
     "text": [
      "success\n"
     ]
    }
   ],
   "source": [
    "h=open(\"f1.txt\",\"r\")\n",
    "c=h.readlines()\n",
    "a=open(\"num1.txt\",\"w\")\n",
    "b=open(\"lower1.txt\",\"w\")\n",
    "d=open(\"upper1.txt\",\"w\")\n",
    "f=open(\"special1.txt\",\"w\")\n",
    "for line in c:\n",
    "    for i in line:\n",
    "        if i.isdigit()==True:\n",
    "            new=a.write(i)\n",
    "        elif i.islower()==True:\n",
    "            new=b.write(i)\n",
    "        elif i.isupper()==True:\n",
    "            new=d.write(i)\n",
    "        else:\n",
    "            new=f.write(i)\n",
    "\n",
    "file=open(\"num1.txt\",\"r\")\n",
    "file.read()\n",
    "file=open(\"lower1.txt\",\"r\")\n",
    "file.read()\n",
    "file=open(\"upper1.txt\",\"r\")\n",
    "file.read()\n",
    "file=open(\"special1.txt\",\"r\")\n",
    "file.read()\n",
    "print(\"success\")\n",
    "            \n",
    "            "
   ]
  },
  {
   "cell_type": "code",
   "execution_count": null,
   "id": "5723d67c",
   "metadata": {},
   "outputs": [],
   "source": []
  }
 ],
 "metadata": {
  "kernelspec": {
   "display_name": "Python 3 (ipykernel)",
   "language": "python",
   "name": "python3"
  },
  "language_info": {
   "codemirror_mode": {
    "name": "ipython",
    "version": 3
   },
   "file_extension": ".py",
   "mimetype": "text/x-python",
   "name": "python",
   "nbconvert_exporter": "python",
   "pygments_lexer": "ipython3",
   "version": "3.9.12"
  }
 },
 "nbformat": 4,
 "nbformat_minor": 5
}
