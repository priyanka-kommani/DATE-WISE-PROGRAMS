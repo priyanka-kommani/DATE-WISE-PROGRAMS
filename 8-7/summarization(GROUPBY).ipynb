{
 "cells": [
  {
   "cell_type": "code",
   "execution_count": 220,
   "id": "cdc6703e",
   "metadata": {},
   "outputs": [],
   "source": [
    "import pandas as pd\n"
   ]
  },
  {
   "cell_type": "code",
   "execution_count": 221,
   "id": "c6346db7",
   "metadata": {},
   "outputs": [
    {
     "data": {
      "text/html": [
       "<div>\n",
       "<style scoped>\n",
       "    .dataframe tbody tr th:only-of-type {\n",
       "        vertical-align: middle;\n",
       "    }\n",
       "\n",
       "    .dataframe tbody tr th {\n",
       "        vertical-align: top;\n",
       "    }\n",
       "\n",
       "    .dataframe thead th {\n",
       "        text-align: right;\n",
       "    }\n",
       "</style>\n",
       "<table border=\"1\" class=\"dataframe\">\n",
       "  <thead>\n",
       "    <tr style=\"text-align: right;\">\n",
       "      <th></th>\n",
       "      <th>NUMBER</th>\n",
       "      <th>NAME</th>\n",
       "      <th>DEPT</th>\n",
       "      <th>SALARY</th>\n",
       "      <th>GENDER</th>\n",
       "    </tr>\n",
       "  </thead>\n",
       "  <tbody>\n",
       "    <tr>\n",
       "      <th>0</th>\n",
       "      <td>1</td>\n",
       "      <td>PAVI</td>\n",
       "      <td>EEE</td>\n",
       "      <td>30000</td>\n",
       "      <td>F</td>\n",
       "    </tr>\n",
       "    <tr>\n",
       "      <th>1</th>\n",
       "      <td>2</td>\n",
       "      <td>PRIYA</td>\n",
       "      <td>CSE</td>\n",
       "      <td>70000</td>\n",
       "      <td>F</td>\n",
       "    </tr>\n",
       "    <tr>\n",
       "      <th>2</th>\n",
       "      <td>3</td>\n",
       "      <td>HARSHA</td>\n",
       "      <td>ME</td>\n",
       "      <td>20000</td>\n",
       "      <td>M</td>\n",
       "    </tr>\n",
       "    <tr>\n",
       "      <th>3</th>\n",
       "      <td>4</td>\n",
       "      <td>LAVANYA</td>\n",
       "      <td>ECE</td>\n",
       "      <td>32000</td>\n",
       "      <td>F</td>\n",
       "    </tr>\n",
       "    <tr>\n",
       "      <th>4</th>\n",
       "      <td>5</td>\n",
       "      <td>RAMA</td>\n",
       "      <td>EEE</td>\n",
       "      <td>40000</td>\n",
       "      <td>F</td>\n",
       "    </tr>\n",
       "    <tr>\n",
       "      <th>5</th>\n",
       "      <td>6</td>\n",
       "      <td>BHANU</td>\n",
       "      <td>ME</td>\n",
       "      <td>24000</td>\n",
       "      <td>M</td>\n",
       "    </tr>\n",
       "    <tr>\n",
       "      <th>6</th>\n",
       "      <td>7</td>\n",
       "      <td>VARDHAN</td>\n",
       "      <td>EEE</td>\n",
       "      <td>31000</td>\n",
       "      <td>M</td>\n",
       "    </tr>\n",
       "    <tr>\n",
       "      <th>7</th>\n",
       "      <td>8</td>\n",
       "      <td>DEEPTHI</td>\n",
       "      <td>CSE</td>\n",
       "      <td>32000</td>\n",
       "      <td>F</td>\n",
       "    </tr>\n",
       "    <tr>\n",
       "      <th>8</th>\n",
       "      <td>9</td>\n",
       "      <td>DIVYA</td>\n",
       "      <td>ECE</td>\n",
       "      <td>43000</td>\n",
       "      <td>F</td>\n",
       "    </tr>\n",
       "    <tr>\n",
       "      <th>9</th>\n",
       "      <td>10</td>\n",
       "      <td>BHAGYA</td>\n",
       "      <td>CSE</td>\n",
       "      <td>33000</td>\n",
       "      <td>F</td>\n",
       "    </tr>\n",
       "  </tbody>\n",
       "</table>\n",
       "</div>"
      ],
      "text/plain": [
       "   NUMBER     NAME DEPT  SALARY GENDER\n",
       "0       1     PAVI  EEE   30000      F\n",
       "1       2    PRIYA  CSE   70000      F\n",
       "2       3   HARSHA   ME   20000      M\n",
       "3       4  LAVANYA  ECE   32000      F\n",
       "4       5     RAMA  EEE   40000      F\n",
       "5       6    BHANU   ME   24000      M\n",
       "6       7  VARDHAN  EEE   31000      M\n",
       "7       8  DEEPTHI  CSE   32000      F\n",
       "8       9    DIVYA  ECE   43000      F\n",
       "9      10   BHAGYA  CSE   33000      F"
      ]
     },
     "execution_count": 221,
     "metadata": {},
     "output_type": "execute_result"
    }
   ],
   "source": [
    "d=pd.read_csv(\"DATA.CSV\")\n",
    "d"
   ]
  },
  {
   "cell_type": "code",
   "execution_count": 222,
   "id": "a407053b",
   "metadata": {},
   "outputs": [],
   "source": [
    "a=d.groupby([\"DEPT\"])"
   ]
  },
  {
   "cell_type": "code",
   "execution_count": 223,
   "id": "5fbd16b2",
   "metadata": {},
   "outputs": [
    {
     "name": "stdout",
     "output_type": "stream",
     "text": [
      "{'CSE': [1, 7, 9], 'ECE': [3, 8], 'EEE': [0, 4, 6], 'ME': [2, 5]}\n"
     ]
    }
   ],
   "source": [
    "print(a.groups)"
   ]
  },
  {
   "cell_type": "code",
   "execution_count": 224,
   "id": "8957ae4d",
   "metadata": {},
   "outputs": [
    {
     "name": "stdout",
     "output_type": "stream",
     "text": [
      "{'F': [0, 1, 3, 4, 7, 8, 9], 'M': [2, 5, 6]}\n"
     ]
    }
   ],
   "source": [
    "a=d.groupby([\"GENDER\"])\n",
    "print(a.groups)"
   ]
  },
  {
   "cell_type": "code",
   "execution_count": 225,
   "id": "da11f021",
   "metadata": {},
   "outputs": [
    {
     "name": "stdout",
     "output_type": "stream",
     "text": [
      "        NUMBER\n",
      "SALARY        \n",
      "20000      3.0\n",
      "24000      6.0\n",
      "30000      1.0\n",
      "31000      7.0\n",
      "32000      6.0\n",
      "33000     10.0\n",
      "40000      5.0\n",
      "43000      9.0\n",
      "70000      2.0\n"
     ]
    }
   ],
   "source": [
    "print(d.groupby(\"SALARY\").mean())"
   ]
  },
  {
   "cell_type": "code",
   "execution_count": 226,
   "id": "d01c8e68",
   "metadata": {},
   "outputs": [
    {
     "name": "stdout",
     "output_type": "stream",
     "text": [
      "{'CSE': [1, 7, 9], 'ECE': [3, 8], 'EEE': [0, 4, 6], 'ME': [2, 5]}\n"
     ]
    }
   ],
   "source": [
    "print(d.groupby(\"DEPT\").groups)"
   ]
  },
  {
   "cell_type": "code",
   "execution_count": 227,
   "id": "055fe4c6",
   "metadata": {},
   "outputs": [
    {
     "name": "stdout",
     "output_type": "stream",
     "text": [
      "<pandas.core.groupby.generic.DataFrameGroupBy object at 0x000002106C30DC40>\n"
     ]
    }
   ],
   "source": [
    "a=print(d.groupby(\"GENDER\"))"
   ]
  },
  {
   "cell_type": "code",
   "execution_count": 228,
   "id": "43ddd955",
   "metadata": {},
   "outputs": [
    {
     "ename": "AttributeError",
     "evalue": "'NoneType' object has no attribute 'groups'",
     "output_type": "error",
     "traceback": [
      "\u001b[1;31m---------------------------------------------------------------------------\u001b[0m",
      "\u001b[1;31mAttributeError\u001b[0m                            Traceback (most recent call last)",
      "Input \u001b[1;32mIn [228]\u001b[0m, in \u001b[0;36m<cell line: 1>\u001b[1;34m()\u001b[0m\n\u001b[1;32m----> 1\u001b[0m \u001b[38;5;28mprint\u001b[39m(\u001b[43ma\u001b[49m\u001b[38;5;241;43m.\u001b[39;49m\u001b[43mgroups\u001b[49m)\n",
      "\u001b[1;31mAttributeError\u001b[0m: 'NoneType' object has no attribute 'groups'"
     ]
    }
   ],
   "source": [
    "print(a.groups)"
   ]
  },
  {
   "cell_type": "code",
   "execution_count": 229,
   "id": "c010f511",
   "metadata": {
    "scrolled": true
   },
   "outputs": [
    {
     "name": "stdout",
     "output_type": "stream",
     "text": [
      "{('F', 'CSE'): [1, 7, 9], ('F', 'ECE'): [3, 8], ('F', 'EEE'): [0, 4], ('M', 'EEE'): [6], ('M', 'ME'): [2, 5]}\n"
     ]
    }
   ],
   "source": [
    "a=d.groupby([\"GENDER\",\"DEPT\"])\n",
    "print(a.groups\n",
    "     )"
   ]
  },
  {
   "cell_type": "code",
   "execution_count": 230,
   "id": "62a7e45c",
   "metadata": {},
   "outputs": [
    {
     "name": "stdout",
     "output_type": "stream",
     "text": [
      "   NUMBER     NAME DEPT  SALARY GENDER\n",
      "0       1     PAVI  EEE   30000      F\n",
      "1       2    PRIYA  CSE   70000      F\n",
      "3       4  LAVANYA  ECE   32000      F\n",
      "4       5     RAMA  EEE   40000      F\n",
      "7       8  DEEPTHI  CSE   32000      F\n",
      "8       9    DIVYA  ECE   43000      F\n",
      "9      10   BHAGYA  CSE   33000      F\n"
     ]
    }
   ],
   "source": [
    "g=d.groupby([\"GENDER\"])\n",
    "print(g.get_group(\"F\"))"
   ]
  },
  {
   "cell_type": "code",
   "execution_count": 231,
   "id": "0fdd918e",
   "metadata": {},
   "outputs": [
    {
     "data": {
      "text/plain": [
       "F    7\n",
       "M    3\n",
       "Name: GENDER, dtype: int64"
      ]
     },
     "execution_count": 231,
     "metadata": {},
     "output_type": "execute_result"
    }
   ],
   "source": [
    "d[\"GENDER\"].value_counts()"
   ]
  },
  {
   "cell_type": "code",
   "execution_count": 232,
   "id": "bff42f72",
   "metadata": {
    "scrolled": true
   },
   "outputs": [
    {
     "data": {
      "text/plain": [
       "32000    2\n",
       "30000    1\n",
       "70000    1\n",
       "20000    1\n",
       "40000    1\n",
       "24000    1\n",
       "31000    1\n",
       "43000    1\n",
       "33000    1\n",
       "Name: SALARY, dtype: int64"
      ]
     },
     "execution_count": 232,
     "metadata": {},
     "output_type": "execute_result"
    }
   ],
   "source": [
    "d[\"SALARY\"].value_counts()"
   ]
  },
  {
   "cell_type": "code",
   "execution_count": 233,
   "id": "b856090f",
   "metadata": {
    "scrolled": true
   },
   "outputs": [
    {
     "data": {
      "text/html": [
       "<div>\n",
       "<style scoped>\n",
       "    .dataframe tbody tr th:only-of-type {\n",
       "        vertical-align: middle;\n",
       "    }\n",
       "\n",
       "    .dataframe tbody tr th {\n",
       "        vertical-align: top;\n",
       "    }\n",
       "\n",
       "    .dataframe thead th {\n",
       "        text-align: right;\n",
       "    }\n",
       "</style>\n",
       "<table border=\"1\" class=\"dataframe\">\n",
       "  <thead>\n",
       "    <tr style=\"text-align: right;\">\n",
       "      <th></th>\n",
       "      <th>NUMBER</th>\n",
       "      <th>NAME</th>\n",
       "      <th>DEPT</th>\n",
       "      <th>GENDER</th>\n",
       "    </tr>\n",
       "    <tr>\n",
       "      <th>SALARY</th>\n",
       "      <th></th>\n",
       "      <th></th>\n",
       "      <th></th>\n",
       "      <th></th>\n",
       "    </tr>\n",
       "  </thead>\n",
       "  <tbody>\n",
       "    <tr>\n",
       "      <th>20000</th>\n",
       "      <td>3</td>\n",
       "      <td>HARSHA</td>\n",
       "      <td>ME</td>\n",
       "      <td>M</td>\n",
       "    </tr>\n",
       "    <tr>\n",
       "      <th>24000</th>\n",
       "      <td>6</td>\n",
       "      <td>BHANU</td>\n",
       "      <td>ME</td>\n",
       "      <td>M</td>\n",
       "    </tr>\n",
       "    <tr>\n",
       "      <th>30000</th>\n",
       "      <td>1</td>\n",
       "      <td>PAVI</td>\n",
       "      <td>EEE</td>\n",
       "      <td>F</td>\n",
       "    </tr>\n",
       "    <tr>\n",
       "      <th>31000</th>\n",
       "      <td>7</td>\n",
       "      <td>VARDHAN</td>\n",
       "      <td>EEE</td>\n",
       "      <td>M</td>\n",
       "    </tr>\n",
       "    <tr>\n",
       "      <th>32000</th>\n",
       "      <td>4</td>\n",
       "      <td>DEEPTHI</td>\n",
       "      <td>CSE</td>\n",
       "      <td>F</td>\n",
       "    </tr>\n",
       "    <tr>\n",
       "      <th>33000</th>\n",
       "      <td>10</td>\n",
       "      <td>BHAGYA</td>\n",
       "      <td>CSE</td>\n",
       "      <td>F</td>\n",
       "    </tr>\n",
       "    <tr>\n",
       "      <th>40000</th>\n",
       "      <td>5</td>\n",
       "      <td>RAMA</td>\n",
       "      <td>EEE</td>\n",
       "      <td>F</td>\n",
       "    </tr>\n",
       "    <tr>\n",
       "      <th>43000</th>\n",
       "      <td>9</td>\n",
       "      <td>DIVYA</td>\n",
       "      <td>ECE</td>\n",
       "      <td>F</td>\n",
       "    </tr>\n",
       "    <tr>\n",
       "      <th>70000</th>\n",
       "      <td>2</td>\n",
       "      <td>PRIYA</td>\n",
       "      <td>CSE</td>\n",
       "      <td>F</td>\n",
       "    </tr>\n",
       "  </tbody>\n",
       "</table>\n",
       "</div>"
      ],
      "text/plain": [
       "        NUMBER     NAME DEPT GENDER\n",
       "SALARY                             \n",
       "20000        3   HARSHA   ME      M\n",
       "24000        6    BHANU   ME      M\n",
       "30000        1     PAVI  EEE      F\n",
       "31000        7  VARDHAN  EEE      M\n",
       "32000        4  DEEPTHI  CSE      F\n",
       "33000       10   BHAGYA  CSE      F\n",
       "40000        5     RAMA  EEE      F\n",
       "43000        9    DIVYA  ECE      F\n",
       "70000        2    PRIYA  CSE      F"
      ]
     },
     "execution_count": 233,
     "metadata": {},
     "output_type": "execute_result"
    }
   ],
   "source": [
    "d.groupby(\"SALARY\").min()"
   ]
  },
  {
   "cell_type": "code",
   "execution_count": 234,
   "id": "fc029f72",
   "metadata": {},
   "outputs": [
    {
     "data": {
      "text/html": [
       "<div>\n",
       "<style scoped>\n",
       "    .dataframe tbody tr th:only-of-type {\n",
       "        vertical-align: middle;\n",
       "    }\n",
       "\n",
       "    .dataframe tbody tr th {\n",
       "        vertical-align: top;\n",
       "    }\n",
       "\n",
       "    .dataframe thead th {\n",
       "        text-align: right;\n",
       "    }\n",
       "</style>\n",
       "<table border=\"1\" class=\"dataframe\">\n",
       "  <thead>\n",
       "    <tr style=\"text-align: right;\">\n",
       "      <th></th>\n",
       "      <th>NUMBER</th>\n",
       "      <th>NAME</th>\n",
       "      <th>SALARY</th>\n",
       "      <th>GENDER</th>\n",
       "    </tr>\n",
       "    <tr>\n",
       "      <th>DEPT</th>\n",
       "      <th></th>\n",
       "      <th></th>\n",
       "      <th></th>\n",
       "      <th></th>\n",
       "    </tr>\n",
       "  </thead>\n",
       "  <tbody>\n",
       "    <tr>\n",
       "      <th>CSE</th>\n",
       "      <td>2</td>\n",
       "      <td>BHAGYA</td>\n",
       "      <td>32000</td>\n",
       "      <td>F</td>\n",
       "    </tr>\n",
       "    <tr>\n",
       "      <th>ECE</th>\n",
       "      <td>4</td>\n",
       "      <td>DIVYA</td>\n",
       "      <td>32000</td>\n",
       "      <td>F</td>\n",
       "    </tr>\n",
       "    <tr>\n",
       "      <th>EEE</th>\n",
       "      <td>1</td>\n",
       "      <td>PAVI</td>\n",
       "      <td>30000</td>\n",
       "      <td>F</td>\n",
       "    </tr>\n",
       "    <tr>\n",
       "      <th>ME</th>\n",
       "      <td>3</td>\n",
       "      <td>BHANU</td>\n",
       "      <td>20000</td>\n",
       "      <td>M</td>\n",
       "    </tr>\n",
       "  </tbody>\n",
       "</table>\n",
       "</div>"
      ],
      "text/plain": [
       "      NUMBER    NAME  SALARY GENDER\n",
       "DEPT                               \n",
       "CSE        2  BHAGYA   32000      F\n",
       "ECE        4   DIVYA   32000      F\n",
       "EEE        1    PAVI   30000      F\n",
       "ME         3   BHANU   20000      M"
      ]
     },
     "execution_count": 234,
     "metadata": {},
     "output_type": "execute_result"
    }
   ],
   "source": [
    "d.groupby(\"DEPT\").min()"
   ]
  },
  {
   "cell_type": "code",
   "execution_count": 235,
   "id": "30c39e6f",
   "metadata": {
    "scrolled": true
   },
   "outputs": [
    {
     "data": {
      "text/html": [
       "<div>\n",
       "<style scoped>\n",
       "    .dataframe tbody tr th:only-of-type {\n",
       "        vertical-align: middle;\n",
       "    }\n",
       "\n",
       "    .dataframe tbody tr th {\n",
       "        vertical-align: top;\n",
       "    }\n",
       "\n",
       "    .dataframe thead th {\n",
       "        text-align: right;\n",
       "    }\n",
       "</style>\n",
       "<table border=\"1\" class=\"dataframe\">\n",
       "  <thead>\n",
       "    <tr style=\"text-align: right;\">\n",
       "      <th></th>\n",
       "      <th>NUMBER</th>\n",
       "      <th>DEPT</th>\n",
       "      <th>SALARY</th>\n",
       "      <th>GENDER</th>\n",
       "    </tr>\n",
       "    <tr>\n",
       "      <th>NAME</th>\n",
       "      <th></th>\n",
       "      <th></th>\n",
       "      <th></th>\n",
       "      <th></th>\n",
       "    </tr>\n",
       "  </thead>\n",
       "  <tbody>\n",
       "    <tr>\n",
       "      <th>BHAGYA</th>\n",
       "      <td>10</td>\n",
       "      <td>CSE</td>\n",
       "      <td>33000</td>\n",
       "      <td>F</td>\n",
       "    </tr>\n",
       "    <tr>\n",
       "      <th>BHANU</th>\n",
       "      <td>6</td>\n",
       "      <td>ME</td>\n",
       "      <td>24000</td>\n",
       "      <td>M</td>\n",
       "    </tr>\n",
       "    <tr>\n",
       "      <th>DEEPTHI</th>\n",
       "      <td>8</td>\n",
       "      <td>CSE</td>\n",
       "      <td>32000</td>\n",
       "      <td>F</td>\n",
       "    </tr>\n",
       "    <tr>\n",
       "      <th>DIVYA</th>\n",
       "      <td>9</td>\n",
       "      <td>ECE</td>\n",
       "      <td>43000</td>\n",
       "      <td>F</td>\n",
       "    </tr>\n",
       "    <tr>\n",
       "      <th>HARSHA</th>\n",
       "      <td>3</td>\n",
       "      <td>ME</td>\n",
       "      <td>20000</td>\n",
       "      <td>M</td>\n",
       "    </tr>\n",
       "    <tr>\n",
       "      <th>LAVANYA</th>\n",
       "      <td>4</td>\n",
       "      <td>ECE</td>\n",
       "      <td>32000</td>\n",
       "      <td>F</td>\n",
       "    </tr>\n",
       "    <tr>\n",
       "      <th>PAVI</th>\n",
       "      <td>1</td>\n",
       "      <td>EEE</td>\n",
       "      <td>30000</td>\n",
       "      <td>F</td>\n",
       "    </tr>\n",
       "    <tr>\n",
       "      <th>PRIYA</th>\n",
       "      <td>2</td>\n",
       "      <td>CSE</td>\n",
       "      <td>70000</td>\n",
       "      <td>F</td>\n",
       "    </tr>\n",
       "    <tr>\n",
       "      <th>RAMA</th>\n",
       "      <td>5</td>\n",
       "      <td>EEE</td>\n",
       "      <td>40000</td>\n",
       "      <td>F</td>\n",
       "    </tr>\n",
       "    <tr>\n",
       "      <th>VARDHAN</th>\n",
       "      <td>7</td>\n",
       "      <td>EEE</td>\n",
       "      <td>31000</td>\n",
       "      <td>M</td>\n",
       "    </tr>\n",
       "  </tbody>\n",
       "</table>\n",
       "</div>"
      ],
      "text/plain": [
       "         NUMBER DEPT  SALARY GENDER\n",
       "NAME                               \n",
       "BHAGYA       10  CSE   33000      F\n",
       "BHANU         6   ME   24000      M\n",
       "DEEPTHI       8  CSE   32000      F\n",
       "DIVYA         9  ECE   43000      F\n",
       "HARSHA        3   ME   20000      M\n",
       "LAVANYA       4  ECE   32000      F\n",
       "PAVI          1  EEE   30000      F\n",
       "PRIYA         2  CSE   70000      F\n",
       "RAMA          5  EEE   40000      F\n",
       "VARDHAN       7  EEE   31000      M"
      ]
     },
     "execution_count": 235,
     "metadata": {},
     "output_type": "execute_result"
    }
   ],
   "source": [
    "d.groupby(\"NAME\").min()"
   ]
  },
  {
   "cell_type": "code",
   "execution_count": 236,
   "id": "086a2bab",
   "metadata": {},
   "outputs": [
    {
     "data": {
      "text/html": [
       "<div>\n",
       "<style scoped>\n",
       "    .dataframe tbody tr th:only-of-type {\n",
       "        vertical-align: middle;\n",
       "    }\n",
       "\n",
       "    .dataframe tbody tr th {\n",
       "        vertical-align: top;\n",
       "    }\n",
       "\n",
       "    .dataframe thead th {\n",
       "        text-align: right;\n",
       "    }\n",
       "</style>\n",
       "<table border=\"1\" class=\"dataframe\">\n",
       "  <thead>\n",
       "    <tr style=\"text-align: right;\">\n",
       "      <th></th>\n",
       "      <th>NAME</th>\n",
       "      <th>DEPT</th>\n",
       "      <th>SALARY</th>\n",
       "      <th>GENDER</th>\n",
       "    </tr>\n",
       "    <tr>\n",
       "      <th>NUMBER</th>\n",
       "      <th></th>\n",
       "      <th></th>\n",
       "      <th></th>\n",
       "      <th></th>\n",
       "    </tr>\n",
       "  </thead>\n",
       "  <tbody>\n",
       "    <tr>\n",
       "      <th>1</th>\n",
       "      <td>PAVI</td>\n",
       "      <td>EEE</td>\n",
       "      <td>30000</td>\n",
       "      <td>F</td>\n",
       "    </tr>\n",
       "    <tr>\n",
       "      <th>2</th>\n",
       "      <td>PRIYA</td>\n",
       "      <td>CSE</td>\n",
       "      <td>70000</td>\n",
       "      <td>F</td>\n",
       "    </tr>\n",
       "    <tr>\n",
       "      <th>3</th>\n",
       "      <td>HARSHA</td>\n",
       "      <td>ME</td>\n",
       "      <td>20000</td>\n",
       "      <td>M</td>\n",
       "    </tr>\n",
       "    <tr>\n",
       "      <th>4</th>\n",
       "      <td>LAVANYA</td>\n",
       "      <td>ECE</td>\n",
       "      <td>32000</td>\n",
       "      <td>F</td>\n",
       "    </tr>\n",
       "    <tr>\n",
       "      <th>5</th>\n",
       "      <td>RAMA</td>\n",
       "      <td>EEE</td>\n",
       "      <td>40000</td>\n",
       "      <td>F</td>\n",
       "    </tr>\n",
       "    <tr>\n",
       "      <th>6</th>\n",
       "      <td>BHANU</td>\n",
       "      <td>ME</td>\n",
       "      <td>24000</td>\n",
       "      <td>M</td>\n",
       "    </tr>\n",
       "    <tr>\n",
       "      <th>7</th>\n",
       "      <td>VARDHAN</td>\n",
       "      <td>EEE</td>\n",
       "      <td>31000</td>\n",
       "      <td>M</td>\n",
       "    </tr>\n",
       "    <tr>\n",
       "      <th>8</th>\n",
       "      <td>DEEPTHI</td>\n",
       "      <td>CSE</td>\n",
       "      <td>32000</td>\n",
       "      <td>F</td>\n",
       "    </tr>\n",
       "    <tr>\n",
       "      <th>9</th>\n",
       "      <td>DIVYA</td>\n",
       "      <td>ECE</td>\n",
       "      <td>43000</td>\n",
       "      <td>F</td>\n",
       "    </tr>\n",
       "    <tr>\n",
       "      <th>10</th>\n",
       "      <td>BHAGYA</td>\n",
       "      <td>CSE</td>\n",
       "      <td>33000</td>\n",
       "      <td>F</td>\n",
       "    </tr>\n",
       "  </tbody>\n",
       "</table>\n",
       "</div>"
      ],
      "text/plain": [
       "           NAME DEPT  SALARY GENDER\n",
       "NUMBER                             \n",
       "1          PAVI  EEE   30000      F\n",
       "2         PRIYA  CSE   70000      F\n",
       "3        HARSHA   ME   20000      M\n",
       "4       LAVANYA  ECE   32000      F\n",
       "5          RAMA  EEE   40000      F\n",
       "6         BHANU   ME   24000      M\n",
       "7       VARDHAN  EEE   31000      M\n",
       "8       DEEPTHI  CSE   32000      F\n",
       "9         DIVYA  ECE   43000      F\n",
       "10       BHAGYA  CSE   33000      F"
      ]
     },
     "execution_count": 236,
     "metadata": {},
     "output_type": "execute_result"
    }
   ],
   "source": [
    "d.groupby(\"NUMBER\").min()"
   ]
  },
  {
   "cell_type": "code",
   "execution_count": 237,
   "id": "1748f05f",
   "metadata": {
    "scrolled": true
   },
   "outputs": [
    {
     "data": {
      "text/plain": [
       "<AxesSubplot:>"
      ]
     },
     "execution_count": 237,
     "metadata": {},
     "output_type": "execute_result"
    },
    {
     "data": {
      "image/png": "[encoded data removed]",
      "text/plain": [
       "<Figure size 432x288 with 1 Axes>"
      ]
     },
     "metadata": {
      "needs_background": "light"
     },
     "output_type": "display_data"
    }
   ],
   "source": [
    "d.plot(kind=\"box\")"
   ]
  },
  {
   "cell_type": "code",
   "execution_count": 238,
   "id": "d0381643",
   "metadata": {
    "scrolled": false
   },
   "outputs": [
    {
     "data": {
      "text/html": [
       "<div>\n",
       "<style scoped>\n",
       "    .dataframe tbody tr th:only-of-type {\n",
       "        vertical-align: middle;\n",
       "    }\n",
       "\n",
       "    .dataframe tbody tr th {\n",
       "        vertical-align: top;\n",
       "    }\n",
       "\n",
       "    .dataframe thead th {\n",
       "        text-align: right;\n",
       "    }\n",
       "</style>\n",
       "<table border=\"1\" class=\"dataframe\">\n",
       "  <thead>\n",
       "    <tr style=\"text-align: right;\">\n",
       "      <th></th>\n",
       "      <th>month_number</th>\n",
       "      <th>facecream</th>\n",
       "      <th>facewash</th>\n",
       "      <th>toothpaste</th>\n",
       "      <th>bathingsoap</th>\n",
       "      <th>shampoo</th>\n",
       "      <th>moisturizer</th>\n",
       "      <th>total_units</th>\n",
       "      <th>total_profit</th>\n",
       "    </tr>\n",
       "  </thead>\n",
       "  <tbody>\n",
       "    <tr>\n",
       "      <th>0</th>\n",
       "      <td>1</td>\n",
       "      <td>2500</td>\n",
       "      <td>1500</td>\n",
       "      <td>5200</td>\n",
       "      <td>9200</td>\n",
       "      <td>1200</td>\n",
       "      <td>1500</td>\n",
       "      <td>21100</td>\n",
       "      <td>211000</td>\n",
       "    </tr>\n",
       "    <tr>\n",
       "      <th>1</th>\n",
       "      <td>2</td>\n",
       "      <td>2630</td>\n",
       "      <td>1200</td>\n",
       "      <td>5100</td>\n",
       "      <td>6100</td>\n",
       "      <td>2100</td>\n",
       "      <td>1200</td>\n",
       "      <td>18330</td>\n",
       "      <td>183300</td>\n",
       "    </tr>\n",
       "    <tr>\n",
       "      <th>2</th>\n",
       "      <td>3</td>\n",
       "      <td>2140</td>\n",
       "      <td>1340</td>\n",
       "      <td>4550</td>\n",
       "      <td>9550</td>\n",
       "      <td>3550</td>\n",
       "      <td>1340</td>\n",
       "      <td>22470</td>\n",
       "      <td>224700</td>\n",
       "    </tr>\n",
       "    <tr>\n",
       "      <th>3</th>\n",
       "      <td>4</td>\n",
       "      <td>3400</td>\n",
       "      <td>1130</td>\n",
       "      <td>5870</td>\n",
       "      <td>8870</td>\n",
       "      <td>1870</td>\n",
       "      <td>1130</td>\n",
       "      <td>22270</td>\n",
       "      <td>222700</td>\n",
       "    </tr>\n",
       "    <tr>\n",
       "      <th>4</th>\n",
       "      <td>5</td>\n",
       "      <td>3600</td>\n",
       "      <td>1740</td>\n",
       "      <td>4560</td>\n",
       "      <td>7760</td>\n",
       "      <td>1560</td>\n",
       "      <td>1740</td>\n",
       "      <td>20960</td>\n",
       "      <td>209600</td>\n",
       "    </tr>\n",
       "    <tr>\n",
       "      <th>5</th>\n",
       "      <td>6</td>\n",
       "      <td>2760</td>\n",
       "      <td>1555</td>\n",
       "      <td>4890</td>\n",
       "      <td>7490</td>\n",
       "      <td>1890</td>\n",
       "      <td>1555</td>\n",
       "      <td>20140</td>\n",
       "      <td>201400</td>\n",
       "    </tr>\n",
       "    <tr>\n",
       "      <th>6</th>\n",
       "      <td>7</td>\n",
       "      <td>2980</td>\n",
       "      <td>1120</td>\n",
       "      <td>4780</td>\n",
       "      <td>8980</td>\n",
       "      <td>1780</td>\n",
       "      <td>1120</td>\n",
       "      <td>29550</td>\n",
       "      <td>295500</td>\n",
       "    </tr>\n",
       "    <tr>\n",
       "      <th>7</th>\n",
       "      <td>8</td>\n",
       "      <td>3700</td>\n",
       "      <td>1400</td>\n",
       "      <td>5860</td>\n",
       "      <td>9960</td>\n",
       "      <td>2860</td>\n",
       "      <td>1400</td>\n",
       "      <td>36140</td>\n",
       "      <td>361400</td>\n",
       "    </tr>\n",
       "    <tr>\n",
       "      <th>8</th>\n",
       "      <td>9</td>\n",
       "      <td>3540</td>\n",
       "      <td>1780</td>\n",
       "      <td>6100</td>\n",
       "      <td>8100</td>\n",
       "      <td>2100</td>\n",
       "      <td>1780</td>\n",
       "      <td>23400</td>\n",
       "      <td>234000</td>\n",
       "    </tr>\n",
       "    <tr>\n",
       "      <th>9</th>\n",
       "      <td>10</td>\n",
       "      <td>1990</td>\n",
       "      <td>1890</td>\n",
       "      <td>8300</td>\n",
       "      <td>10300</td>\n",
       "      <td>2300</td>\n",
       "      <td>1890</td>\n",
       "      <td>26670</td>\n",
       "      <td>266700</td>\n",
       "    </tr>\n",
       "    <tr>\n",
       "      <th>10</th>\n",
       "      <td>11</td>\n",
       "      <td>2340</td>\n",
       "      <td>2100</td>\n",
       "      <td>7300</td>\n",
       "      <td>13300</td>\n",
       "      <td>2400</td>\n",
       "      <td>2100</td>\n",
       "      <td>41280</td>\n",
       "      <td>412800</td>\n",
       "    </tr>\n",
       "    <tr>\n",
       "      <th>11</th>\n",
       "      <td>12</td>\n",
       "      <td>2900</td>\n",
       "      <td>1760</td>\n",
       "      <td>7400</td>\n",
       "      <td>14400</td>\n",
       "      <td>1800</td>\n",
       "      <td>1760</td>\n",
       "      <td>30020</td>\n",
       "      <td>300200</td>\n",
       "    </tr>\n",
       "  </tbody>\n",
       "</table>\n",
       "</div>"
      ],
      "text/plain": [
       "    month_number  facecream  facewash  toothpaste  bathingsoap  shampoo  \\\n",
       "0              1       2500      1500        5200         9200     1200   \n",
       "1              2       2630      1200        5100         6100     2100   \n",
       "2              3       2140      1340        4550         9550     3550   \n",
       "3              4       3400      1130        5870         8870     1870   \n",
       "4              5       3600      1740        4560         7760     1560   \n",
       "5              6       2760      1555        4890         7490     1890   \n",
       "6              7       2980      1120        4780         8980     1780   \n",
       "7              8       3700      1400        5860         9960     2860   \n",
       "8              9       3540      1780        6100         8100     2100   \n",
       "9             10       1990      1890        8300        10300     2300   \n",
       "10            11       2340      2100        7300        13300     2400   \n",
       "11            12       2900      1760        7400        14400     1800   \n",
       "\n",
       "    moisturizer  total_units  total_profit  \n",
       "0          1500        21100        211000  \n",
       "1          1200        18330        183300  \n",
       "2          1340        22470        224700  \n",
       "3          1130        22270        222700  \n",
       "4          1740        20960        209600  \n",
       "5          1555        20140        201400  \n",
       "6          1120        29550        295500  \n",
       "7          1400        36140        361400  \n",
       "8          1780        23400        234000  \n",
       "9          1890        26670        266700  \n",
       "10         2100        41280        412800  \n",
       "11         1760        30020        300200  "
      ]
     },
     "execution_count": 238,
     "metadata": {},
     "output_type": "execute_result"
    }
   ],
   "source": [
    "d=pd.read_csv(\"company_sales_data.csv\")\n",
    "d"
   ]
  },
  {
   "cell_type": "code",
   "execution_count": 239,
   "id": "ff2f82d4",
   "metadata": {},
   "outputs": [
    {
     "name": "stdout",
     "output_type": "stream",
     "text": [
      "{183300: [1], 201400: [5], 209600: [4], 211000: [0], 222700: [3], 224700: [2], 234000: [8], 266700: [9], 295500: [6], 300200: [11], 361400: [7], 412800: [10]}\n"
     ]
    }
   ],
   "source": [
    "a=d.groupby([\"total_profit\"])\n",
    "print(a.groups)"
   ]
  },
  {
   "cell_type": "code",
   "execution_count": 240,
   "id": "a2945d43",
   "metadata": {
    "scrolled": true
   },
   "outputs": [
    {
     "name": "stdout",
     "output_type": "stream",
     "text": [
      "{(183300, 2630): [1], (201400, 2760): [5], (209600, 3600): [4], (211000, 2500): [0], (222700, 3400): [3], (224700, 2140): [2], (234000, 3540): [8], (266700, 1990): [9], (295500, 2980): [6], (300200, 2900): [11], (361400, 3700): [7], (412800, 2340): [10]}\n"
     ]
    }
   ],
   "source": [
    "a=d.groupby([\"total_profit\",\"facecream\"])\n",
    "print(a.groups)"
   ]
  },
  {
   "cell_type": "code",
   "execution_count": 241,
   "id": "7aab5b83",
   "metadata": {},
   "outputs": [
    {
     "data": {
      "text/html": [
       "<div>\n",
       "<style scoped>\n",
       "    .dataframe tbody tr th:only-of-type {\n",
       "        vertical-align: middle;\n",
       "    }\n",
       "\n",
       "    .dataframe tbody tr th {\n",
       "        vertical-align: top;\n",
       "    }\n",
       "\n",
       "    .dataframe thead th {\n",
       "        text-align: right;\n",
       "    }\n",
       "</style>\n",
       "<table border=\"1\" class=\"dataframe\">\n",
       "  <thead>\n",
       "    <tr style=\"text-align: right;\">\n",
       "      <th></th>\n",
       "      <th>month_number</th>\n",
       "      <th>facecream</th>\n",
       "      <th>facewash</th>\n",
       "      <th>toothpaste</th>\n",
       "      <th>bathingsoap</th>\n",
       "      <th>shampoo</th>\n",
       "      <th>moisturizer</th>\n",
       "      <th>total_units</th>\n",
       "    </tr>\n",
       "    <tr>\n",
       "      <th>total_profit</th>\n",
       "      <th></th>\n",
       "      <th></th>\n",
       "      <th></th>\n",
       "      <th></th>\n",
       "      <th></th>\n",
       "      <th></th>\n",
       "      <th></th>\n",
       "      <th></th>\n",
       "    </tr>\n",
       "  </thead>\n",
       "  <tbody>\n",
       "    <tr>\n",
       "      <th>183300</th>\n",
       "      <td>2</td>\n",
       "      <td>2630</td>\n",
       "      <td>1200</td>\n",
       "      <td>5100</td>\n",
       "      <td>6100</td>\n",
       "      <td>2100</td>\n",
       "      <td>1200</td>\n",
       "      <td>18330</td>\n",
       "    </tr>\n",
       "    <tr>\n",
       "      <th>201400</th>\n",
       "      <td>6</td>\n",
       "      <td>2760</td>\n",
       "      <td>1555</td>\n",
       "      <td>4890</td>\n",
       "      <td>7490</td>\n",
       "      <td>1890</td>\n",
       "      <td>1555</td>\n",
       "      <td>20140</td>\n",
       "    </tr>\n",
       "    <tr>\n",
       "      <th>209600</th>\n",
       "      <td>5</td>\n",
       "      <td>3600</td>\n",
       "      <td>1740</td>\n",
       "      <td>4560</td>\n",
       "      <td>7760</td>\n",
       "      <td>1560</td>\n",
       "      <td>1740</td>\n",
       "      <td>20960</td>\n",
       "    </tr>\n",
       "    <tr>\n",
       "      <th>211000</th>\n",
       "      <td>1</td>\n",
       "      <td>2500</td>\n",
       "      <td>1500</td>\n",
       "      <td>5200</td>\n",
       "      <td>9200</td>\n",
       "      <td>1200</td>\n",
       "      <td>1500</td>\n",
       "      <td>21100</td>\n",
       "    </tr>\n",
       "    <tr>\n",
       "      <th>222700</th>\n",
       "      <td>4</td>\n",
       "      <td>3400</td>\n",
       "      <td>1130</td>\n",
       "      <td>5870</td>\n",
       "      <td>8870</td>\n",
       "      <td>1870</td>\n",
       "      <td>1130</td>\n",
       "      <td>22270</td>\n",
       "    </tr>\n",
       "    <tr>\n",
       "      <th>224700</th>\n",
       "      <td>3</td>\n",
       "      <td>2140</td>\n",
       "      <td>1340</td>\n",
       "      <td>4550</td>\n",
       "      <td>9550</td>\n",
       "      <td>3550</td>\n",
       "      <td>1340</td>\n",
       "      <td>22470</td>\n",
       "    </tr>\n",
       "    <tr>\n",
       "      <th>234000</th>\n",
       "      <td>9</td>\n",
       "      <td>3540</td>\n",
       "      <td>1780</td>\n",
       "      <td>6100</td>\n",
       "      <td>8100</td>\n",
       "      <td>2100</td>\n",
       "      <td>1780</td>\n",
       "      <td>23400</td>\n",
       "    </tr>\n",
       "    <tr>\n",
       "      <th>266700</th>\n",
       "      <td>10</td>\n",
       "      <td>1990</td>\n",
       "      <td>1890</td>\n",
       "      <td>8300</td>\n",
       "      <td>10300</td>\n",
       "      <td>2300</td>\n",
       "      <td>1890</td>\n",
       "      <td>26670</td>\n",
       "    </tr>\n",
       "    <tr>\n",
       "      <th>295500</th>\n",
       "      <td>7</td>\n",
       "      <td>2980</td>\n",
       "      <td>1120</td>\n",
       "      <td>4780</td>\n",
       "      <td>8980</td>\n",
       "      <td>1780</td>\n",
       "      <td>1120</td>\n",
       "      <td>29550</td>\n",
       "    </tr>\n",
       "    <tr>\n",
       "      <th>300200</th>\n",
       "      <td>12</td>\n",
       "      <td>2900</td>\n",
       "      <td>1760</td>\n",
       "      <td>7400</td>\n",
       "      <td>14400</td>\n",
       "      <td>1800</td>\n",
       "      <td>1760</td>\n",
       "      <td>30020</td>\n",
       "    </tr>\n",
       "    <tr>\n",
       "      <th>361400</th>\n",
       "      <td>8</td>\n",
       "      <td>3700</td>\n",
       "      <td>1400</td>\n",
       "      <td>5860</td>\n",
       "      <td>9960</td>\n",
       "      <td>2860</td>\n",
       "      <td>1400</td>\n",
       "      <td>36140</td>\n",
       "    </tr>\n",
       "    <tr>\n",
       "      <th>412800</th>\n",
       "      <td>11</td>\n",
       "      <td>2340</td>\n",
       "      <td>2100</td>\n",
       "      <td>7300</td>\n",
       "      <td>13300</td>\n",
       "      <td>2400</td>\n",
       "      <td>2100</td>\n",
       "      <td>41280</td>\n",
       "    </tr>\n",
       "  </tbody>\n",
       "</table>\n",
       "</div>"
      ],
      "text/plain": [
       "              month_number  facecream  facewash  toothpaste  bathingsoap  \\\n",
       "total_profit                                                               \n",
       "183300                   2       2630      1200        5100         6100   \n",
       "201400                   6       2760      1555        4890         7490   \n",
       "209600                   5       3600      1740        4560         7760   \n",
       "211000                   1       2500      1500        5200         9200   \n",
       "222700                   4       3400      1130        5870         8870   \n",
       "224700                   3       2140      1340        4550         9550   \n",
       "234000                   9       3540      1780        6100         8100   \n",
       "266700                  10       1990      1890        8300        10300   \n",
       "295500                   7       2980      1120        4780         8980   \n",
       "300200                  12       2900      1760        7400        14400   \n",
       "361400                   8       3700      1400        5860         9960   \n",
       "412800                  11       2340      2100        7300        13300   \n",
       "\n",
       "              shampoo  moisturizer  total_units  \n",
       "total_profit                                     \n",
       "183300           2100         1200        18330  \n",
       "201400           1890         1555        20140  \n",
       "209600           1560         1740        20960  \n",
       "211000           1200         1500        21100  \n",
       "222700           1870         1130        22270  \n",
       "224700           3550         1340        22470  \n",
       "234000           2100         1780        23400  \n",
       "266700           2300         1890        26670  \n",
       "295500           1780         1120        29550  \n",
       "300200           1800         1760        30020  \n",
       "361400           2860         1400        36140  \n",
       "412800           2400         2100        41280  "
      ]
     },
     "execution_count": 241,
     "metadata": {},
     "output_type": "execute_result"
    }
   ],
   "source": [
    "d.groupby(\"total_profit\").max()"
   ]
  },
  {
   "cell_type": "code",
   "execution_count": 242,
   "id": "1324ebb1",
   "metadata": {},
   "outputs": [
    {
     "data": {
      "text/plain": [
       "<AxesSubplot:>"
      ]
     },
     "execution_count": 242,
     "metadata": {},
     "output_type": "execute_result"
    },
    {
     "data": {
      "image/png": "[encoded data removed]",
      "text/plain": [
       "<Figure size 432x288 with 1 Axes>"
      ]
     },
     "metadata": {
      "needs_background": "light"
     },
     "output_type": "display_data"
    }
   ],
   "source": [
    "d.plot(kind=\"box\")"
   ]
  },
  {
   "cell_type": "code",
   "execution_count": 243,
   "id": "e726a23c",
   "metadata": {},
   "outputs": [],
   "source": [
    "import pandas as pd"
   ]
  },
  {
   "cell_type": "code",
   "execution_count": 244,
   "id": "614af9c7",
   "metadata": {},
   "outputs": [
    {
     "name": "stdout",
     "output_type": "stream",
     "text": [
      "3.2\n",
      "3.7\n",
      "1.9235384061671346\n",
      "3.0\n"
     ]
    }
   ],
   "source": [
    "a=pd.Series([1,3,2,4,6])\n",
    "print(a.mean())\n",
    "print(a.var())\n",
    "print(a.std())\n",
    "print(a.median())"
   ]
  },
  {
   "cell_type": "code",
   "execution_count": 245,
   "id": "01a3eab0",
   "metadata": {},
   "outputs": [
    {
     "name": "stdout",
     "output_type": "stream",
     "text": [
      "6.8\n",
      "57.699999999999996\n",
      "7.596051605933177\n",
      "4.0\n"
     ]
    }
   ],
   "source": [
    "a=pd.Series([1,3,20,4,6])\n",
    "print(a.mean())\n",
    "print(a.var())\n",
    "print(a.std())\n",
    "print(a.median())"
   ]
  },
  {
   "cell_type": "code",
   "execution_count": null,
   "id": "60620c66",
   "metadata": {},
   "outputs": [],
   "source": [
    "for i in range(a)\n"
   ]
  },
  {
   "cell_type": "code",
   "execution_count": 246,
   "id": "d3169ba0",
   "metadata": {},
   "outputs": [
    {
     "name": "stdout",
     "output_type": "stream",
     "text": [
      "6.333333333333333\n",
      "25.46666666666667\n",
      "5.046450898073483\n",
      "5.5\n"
     ]
    }
   ],
   "source": [
    "x=pd.Series([1,11,2,13,8,3])\n",
    "am=x.mean()\n",
    "av=x.var()\n",
    "ast=x.std()\n",
    "ame=x.median()\n",
    "print(x.mean())\n",
    "\n",
    "print(x.var())\n",
    "\n",
    "print(x.std())\n",
    "\n",
    "print(x.median())"
   ]
  },
  {
   "cell_type": "code",
   "execution_count": 247,
   "id": "056067fa",
   "metadata": {},
   "outputs": [
    {
     "name": "stdout",
     "output_type": "stream",
     "text": [
      "1.0\n",
      "0.0\n",
      "0.0\n",
      "1.0\n"
     ]
    }
   ],
   "source": [
    "y=pd.Series([1,1,1,1,1,1])\n",
    "print(y.mean())\n",
    "print(y.var())\n",
    "print(y.std())\n",
    "print(y.median())\n",
    "ym=y.mean()\n",
    "yv=y.var()\n",
    "yst=y.std()\n",
    "yme=y.median()"
   ]
  },
  {
   "cell_type": "code",
   "execution_count": 248,
   "id": "5e959b2d",
   "metadata": {
    "scrolled": true
   },
   "outputs": [],
   "source": [
    "import pandas as pd"
   ]
  },
  {
   "cell_type": "code",
   "execution_count": 264,
   "id": "8fb45edb",
   "metadata": {},
   "outputs": [
    {
     "name": "stdout",
     "output_type": "stream",
     "text": [
      "14.0\n",
      "662.5\n",
      "25.739075352467502\n",
      "3.0\n",
      "<class 'pandas.core.series.Series'>\n"
     ]
    }
   ],
   "source": [
    "a=pd.Series([1,3,2,4,60])\n",
    "print(a.mean())\n",
    "print(a.var())\n",
    "print(a.std())\n",
    "print(a.median())\n",
    "print(type(a))"
   ]
  },
  {
   "cell_type": "code",
   "execution_count": 250,
   "id": "34c79ddd",
   "metadata": {},
   "outputs": [
    {
     "name": "stdout",
     "output_type": "stream",
     "text": [
      "25.833333333333332\n",
      "437.7666666666667\n",
      "20.922874244870535\n",
      "21.0\n"
     ]
    }
   ],
   "source": [
    "b=pd.Series([10,3,20,40,60,22])\n",
    "print(b.mean())\n",
    "print(b.var())\n",
    "print(b.std())\n",
    "print(b.median())"
   ]
  },
  {
   "cell_type": "code",
   "execution_count": 251,
   "id": "1f3efe8a",
   "metadata": {},
   "outputs": [
    {
     "name": "stdout",
     "output_type": "stream",
     "text": [
      "21.166666666666668\n",
      "227.36666666666665\n",
      "15.078682524234889\n",
      "21.0\n"
     ]
    }
   ],
   "source": [
    "c=pd.Series([30,2,12,34,10,39])\n",
    "print(c.mean())\n",
    "print(c.var())\n",
    "print(c.std())\n",
    "print(c.median())"
   ]
  },
  {
   "cell_type": "code",
   "execution_count": 252,
   "id": "ed263b27",
   "metadata": {},
   "outputs": [
    {
     "name": "stdout",
     "output_type": "stream",
     "text": [
      "54.833333333333336\n",
      "1009.3666666666666\n",
      "31.770531419330503\n",
      "42.5\n"
     ]
    }
   ],
   "source": [
    "d=pd.Series([43,32,89,100,23,42])\n",
    "print(d.mean())\n",
    "print(d.var())\n",
    "print(d.std())\n",
    "print(d.median())"
   ]
  },
  {
   "cell_type": "code",
   "execution_count": 253,
   "id": "b3d0d4e7",
   "metadata": {},
   "outputs": [
    {
     "name": "stdout",
     "output_type": "stream",
     "text": [
      "13.0\n",
      "261.6\n",
      "16.174053295324583\n",
      "6.0\n"
     ]
    }
   ],
   "source": [
    "e=pd.Series([19,2,10,2,2,43])\n",
    "print(e.mean())\n",
    "print(e.var())\n",
    "print(e.std())\n",
    "print(e.median())"
   ]
  },
  {
   "cell_type": "code",
   "execution_count": 254,
   "id": "bebda4e4",
   "metadata": {},
   "outputs": [
    {
     "name": "stdout",
     "output_type": "stream",
     "text": [
      "8.166666666666666\n",
      "35.36666666666666\n",
      "5.946988033169956\n",
      "10.0\n"
     ]
    }
   ],
   "source": [
    "f=pd.Series([13,12,14,8,0,2])\n",
    "print(f.mean())\n",
    "print(f.var())\n",
    "print(f.std())\n",
    "print(f.median())"
   ]
  },
  {
   "cell_type": "code",
   "execution_count": 255,
   "id": "b89e5889",
   "metadata": {},
   "outputs": [
    {
     "name": "stdout",
     "output_type": "stream",
     "text": [
      "65.0\n",
      "350.0\n",
      "18.708286933869708\n",
      "65.0\n"
     ]
    }
   ],
   "source": [
    "g=pd.Series([90,80,70,60,50,40])\n",
    "print(g.mean())\n",
    "print(g.var())\n",
    "print(g.std())\n",
    "print(g.median())"
   ]
  },
  {
   "cell_type": "code",
   "execution_count": 256,
   "id": "3d60d654",
   "metadata": {},
   "outputs": [
    {
     "name": "stdout",
     "output_type": "stream",
     "text": [
      "40.0\n",
      "1215.6\n",
      "34.86545568324039\n",
      "33.0\n"
     ]
    }
   ],
   "source": [
    "h=pd.Series([23,8,10,100,43,56])\n",
    "print(h.mean())\n",
    "print(h.var())\n",
    "print(h.std())\n",
    "print(h.median())"
   ]
  },
  {
   "cell_type": "code",
   "execution_count": 266,
   "id": "8f727204",
   "metadata": {},
   "outputs": [
    {
     "data": {
      "image/png": "[encoded data removed]",
      "text/plain": [
       "<Figure size 432x288 with 1 Axes>"
      ]
     },
     "metadata": {},
     "output_type": "display_data"
    }
   ],
   "source": [
    "import matplotlib.pyplot as plt\n",
    "list1=[a.mean(),b.mean(),c.mean(),d.mean(),e.mean(),f.mean(),g.mean(),h.mean()]\n",
    "name1=[\"a\",\"b\",\"c\",\"D\",\"e\",\"f\",\"g\",\"h\"]\n",
    "plt.pie(list1,labels=name1)\n",
    "plt.title(\"means\")\n",
    "plt.legend(loc=\"upper left\")\n",
    "plt.show()"
   ]
  },
  {
   "cell_type": "code",
   "execution_count": 268,
   "id": "2ec8fe3e",
   "metadata": {
    "scrolled": true
   },
   "outputs": [
    {
     "data": {
      "image/png": "[encoded data removed]",
      "text/plain": [
       "<Figure size 432x288 with 1 Axes>"
      ]
     },
     "metadata": {},
     "output_type": "display_data"
    }
   ],
   "source": [
    "import matplotlib.pyplot as plt\n",
    "import pandas as pd\n",
    "list1=[a.var(),b.var(),c.var(),d.var(),e.var()]\n",
    "name=[\"a\",\"b\",\"c\",\"D\",\"e\"]\n",
    "plt.pie(list1,labels=name,autopct=\"%1.1f%%\")\n",
    "plt.title(\"medians\")\n",
    "plt.legend(loc=\"upper left\")\n",
    "plt.show()"
   ]
  },
  {
   "cell_type": "code",
   "execution_count": 316,
   "id": "159a2eb6",
   "metadata": {},
   "outputs": [
    {
     "data": {
      "image/png": "[encoded data removed]",
      "text/plain": [
       "<Figure size 432x288 with 1 Axes>"
      ]
     },
     "metadata": {},
     "output_type": "display_data"
    }
   ],
   "source": [
    "list1=[a.var(),b.var(),c.var(),d.var(),e.var()]\n",
    "name=[\"a\",\"b\",\"c\",\"D\",\"e\"]\n",
    "plt.pie(list1,labels=name,autopct=\"%1.1f%%\",explode=[0,0,0.4,0,0])\n",
    "plt.title(\"medians\")\n",
    "plt.legend(loc=\"upper left\")\n",
    "plt.show()"
   ]
  },
  {
   "cell_type": "code",
   "execution_count": 269,
   "id": "d6beb44f",
   "metadata": {},
   "outputs": [
    {
     "data": {
      "image/png": "[encoded data removed]",
      "text/plain": [
       "<Figure size 432x288 with 1 Axes>"
      ]
     },
     "metadata": {},
     "output_type": "display_data"
    }
   ],
   "source": [
    "list1=[a.median(),b.median(),c.median(),d.median(),e.median()]\n",
    "name=[\"a\",\"b\",\"c\",\"D\",\"e\"]\n",
    "plt.pie(list1,labels=name,autopct=\"%1.1f%%\")\n",
    "plt.title(\"medians\")\n",
    "plt.legend(loc=\"upper left\")\n",
    "plt.show()"
   ]
  },
  {
   "cell_type": "code",
   "execution_count": 270,
   "id": "8b60ed04",
   "metadata": {},
   "outputs": [
    {
     "data": {
      "image/png": "[encoded data removed]",
      "text/plain": [
       "<Figure size 432x288 with 1 Axes>"
      ]
     },
     "metadata": {},
     "output_type": "display_data"
    }
   ],
   "source": [
    "list1=[a.std(),b.std(),c.std(),d.std(),e.std()]\n",
    "name=[\"a\",\"b\",\"c\",\"D\",\"e\"]\n",
    "plt.pie(list1,labels=name,autopct=\"%1.1f%%\")\n",
    "plt.title(\"medians\")\n",
    "plt.legend(loc=\"upper left\")\n",
    "plt.show()"
   ]
  },
  {
   "cell_type": "code",
   "execution_count": 275,
   "id": "947ac9ec",
   "metadata": {},
   "outputs": [
    {
     "data": {
      "text/plain": [
       "<BarContainer object of 6 artists>"
      ]
     },
     "execution_count": 275,
     "metadata": {},
     "output_type": "execute_result"
    },
    {
     "data": {
      "image/png": "[encoded data removed]",
      "text/plain": [
       "<Figure size 432x288 with 1 Axes>"
      ]
     },
     "metadata": {
      "needs_background": "light"
     },
     "output_type": "display_data"
    }
   ],
   "source": [
    "x_values=[a.mean(),b.mean(),c.mean(),d.mean(),e.mean(),]\n",
    "y_values=[a.median(),b.median(),c.median(),d.median(),e.median(),]\n",
    "plt.xlabel(\"mean\")\n",
    "plt.ylabel(\"median\")\n",
    "plt.title(\"bar graphs\")\n",
    "plt.bar(x,y,color=\"red\")\n"
   ]
  },
  {
   "cell_type": "code",
   "execution_count": 277,
   "id": "60eccbd6",
   "metadata": {},
   "outputs": [
    {
     "data": {
      "text/plain": [
       "<BarContainer object of 6 artists>"
      ]
     },
     "execution_count": 277,
     "metadata": {},
     "output_type": "execute_result"
    },
    {
     "data": {
      "image/png": "[encoded data removed]",
      "text/plain": [
       "<Figure size 432x288 with 1 Axes>"
      ]
     },
     "metadata": {
      "needs_background": "light"
     },
     "output_type": "display_data"
    }
   ],
   "source": [
    "x_values=[a.mean(),b.mean(),c.mean(),d.mean(),e.mean(),]\n",
    "y_values=[a.var(),b.var(),c.var(),d.var(),e.var(),]\n",
    "plt.xlabel(\"mean\")\n",
    "plt.ylabel(\"variance\")\n",
    "plt.title(\"bar graphs\")\n",
    "col=[\"red\",\"blue\",\"green\",\"yellow\",\"violet\"]\n",
    "plt.bar(x,y,color=col)"
   ]
  },
  {
   "cell_type": "code",
   "execution_count": 281,
   "id": "c4d5bcc8",
   "metadata": {},
   "outputs": [
    {
     "data": {
      "text/plain": [
       "(array([2., 1., 0., 1., 0., 0., 0., 0., 0., 1.]),\n",
       " array([13.        , 17.18333333, 21.36666667, 25.55      , 29.73333333,\n",
       "        33.91666667, 38.1       , 42.28333333, 46.46666667, 50.65      ,\n",
       "        54.83333333]),\n",
       " <BarContainer object of 10 artists>)"
      ]
     },
     "execution_count": 281,
     "metadata": {},
     "output_type": "execute_result"
    },
    {
     "data": {
      "image/png": "[encoded data removed]",
      "text/plain": [
       "<Figure size 432x288 with 1 Axes>"
      ]
     },
     "metadata": {
      "needs_background": "light"
     },
     "output_type": "display_data"
    }
   ],
   "source": [
    "x_values=[a.mean(),b.mean(),c.mean(),d.mean(),e.mean()]\n",
    "plt.xlabel(\"mean\")\n",
    "plt.title(\"histogram\")\n",
    "plt.hist(x_values,color=\"red\")"
   ]
  },
  {
   "cell_type": "code",
   "execution_count": 282,
   "id": "299e432a",
   "metadata": {},
   "outputs": [
    {
     "data": {
      "text/plain": [
       "(array([2., 0., 0., 1., 0., 0., 1., 0., 0., 1.]),\n",
       " array([15.07868252, 16.74786741, 18.4170523 , 20.08623719, 21.75542208,\n",
       "        23.42460697, 25.09379186, 26.76297675, 28.43216164, 30.10134653,\n",
       "        31.77053142]),\n",
       " <BarContainer object of 10 artists>)"
      ]
     },
     "execution_count": 282,
     "metadata": {},
     "output_type": "execute_result"
    },
    {
     "data": {
      "image/png": "[encoded data removed]",
      "text/plain": [
       "<Figure size 432x288 with 1 Axes>"
      ]
     },
     "metadata": {
      "needs_background": "light"
     },
     "output_type": "display_data"
    }
   ],
   "source": [
    "x_values=[a.std(),b.std(),c.std(),d.std(),e.std()]\n",
    "plt.xlabel(\"mean\")\n",
    "plt.title(\"histogram\")\n",
    "plt.hist(x_values,color=\"red\")"
   ]
  },
  {
   "cell_type": "code",
   "execution_count": 283,
   "id": "f2bef39c",
   "metadata": {},
   "outputs": [
    {
     "data": {
      "text/plain": [
       "(array([2., 0., 0., 0., 2., 0., 0., 0., 0., 1.]),\n",
       " array([ 3.  ,  6.95, 10.9 , 14.85, 18.8 , 22.75, 26.7 , 30.65, 34.6 ,\n",
       "        38.55, 42.5 ]),\n",
       " <BarContainer object of 10 artists>)"
      ]
     },
     "execution_count": 283,
     "metadata": {},
     "output_type": "execute_result"
    },
    {
     "data": {
      "image/png": "[encoded data removed]",
      "text/plain": [
       "<Figure size 432x288 with 1 Axes>"
      ]
     },
     "metadata": {
      "needs_background": "light"
     },
     "output_type": "display_data"
    }
   ],
   "source": [
    "x_values=[a.median(),b.median(),c.median(),d.median(),e.median()]\n",
    "plt.xlabel(\"mean\")\n",
    "plt.title(\"histogram\")\n",
    "plt.hist(x_values,color=\"red\")"
   ]
  },
  {
   "cell_type": "code",
   "execution_count": 296,
   "id": "b8fdaab1",
   "metadata": {},
   "outputs": [
    {
     "data": {
      "text/plain": [
       "<matplotlib.collections.PathCollection at 0x2106c583760>"
      ]
     },
     "execution_count": 296,
     "metadata": {},
     "output_type": "execute_result"
    },
    {
     "data": {
      "image/png": "[encoded data removed]",
      "text/plain": [
       "<Figure size 432x288 with 1 Axes>"
      ]
     },
     "metadata": {
      "needs_background": "light"
     },
     "output_type": "display_data"
    }
   ],
   "source": [
    "x_values=[a.median(),b.median(),c.median(),d.median(),e.median()]\n",
    "y_values=[a.var(),b.var(),c.var(),d.var(),e.var()]\n",
    "col=[\"pink\",\"blue\",\"green\",\"violet\",\"yellow\"]\n",
    "plt.xlabel(\"mean\")\n",
    "plt.title(\"scatter\")\n",
    "plt.scatter(x_values,y_values,color=col,marker=\"s\",edgecolor=\"red\",linewidth=2)"
   ]
  },
  {
   "cell_type": "code",
   "execution_count": 300,
   "id": "272bed68",
   "metadata": {},
   "outputs": [
    {
     "data": {
      "text/plain": [
       "<matplotlib.collections.PathCollection at 0x2106dd85fd0>"
      ]
     },
     "execution_count": 300,
     "metadata": {},
     "output_type": "execute_result"
    },
    {
     "data": {
      "image/png": "[encoded data removed]",
      "text/plain": [
       "<Figure size 432x288 with 1 Axes>"
      ]
     },
     "metadata": {
      "needs_background": "light"
     },
     "output_type": "display_data"
    }
   ],
   "source": [
    "x_values=[a.median(),b.median(),c.median(),d.median(),e.median()]\n",
    "y_values=[a.var(),b.var(),c.var(),d.var(),e.var()]\n",
    "col=[\"pink\",\"blue\",\"green\",\"violet\",\"yellow\"]\n",
    "plt.xlabel(\"mean\")\n",
    "plt.title(\"bubble\")\n",
    "plt.scatter(x_values,y_values,alpha=0.4,s=1000)"
   ]
  },
  {
   "cell_type": "code",
   "execution_count": 304,
   "id": "03897b6d",
   "metadata": {},
   "outputs": [
    {
     "data": {
      "text/plain": [
       "<matplotlib.collections.PathCollection at 0x2106df224c0>"
      ]
     },
     "execution_count": 304,
     "metadata": {},
     "output_type": "execute_result"
    },
    {
     "data": {
      "image/png": "[encoded data removed]",
      "text/plain": [
       "<Figure size 432x288 with 1 Axes>"
      ]
     },
     "metadata": {
      "needs_background": "light"
     },
     "output_type": "display_data"
    }
   ],
   "source": [
    "x_values=[a.median(),b.median(),c.median(),d.median(),e.median(),f.median(),g.median()]\n",
    "y_values=[a.var(),b.var(),c.var(),d.var(),e.var(),f.var(),g.var()]\n",
    "col=[\"pink\",\"blue\",\"green\",\"violet\",\"yellow\",\"black\",\"orange\"]\n",
    "plt.xlabel(\"mean\")\n",
    "plt.title(\"bubble\")\n",
    "plt.scatter(x_values,y_values,alpha=0.7,s=1000)"
   ]
  },
  {
   "cell_type": "code",
   "execution_count": 309,
   "id": "641ecb4f",
   "metadata": {},
   "outputs": [
    {
     "data": {
      "text/plain": [
       "<matplotlib.collections.PathCollection at 0x2106e118880>"
      ]
     },
     "execution_count": 309,
     "metadata": {},
     "output_type": "execute_result"
    },
    {
     "data": {
      "image/png": "[encoded data removed]",
      "text/plain": [
       "<Figure size 432x288 with 1 Axes>"
      ]
     },
     "metadata": {
      "needs_background": "light"
     },
     "output_type": "display_data"
    }
   ],
   "source": [
    "x_values=[a.median(),b.median(),c.median(),d.median(),e.median(),f.median(),g.median()]\n",
    "y_values=[a.var(),b.var(),c.var(),d.var(),e.var(),f.var(),g.var()]\n",
    "col=[\"pink\",\"blue\",\"green\",\"violet\",\"yellow\",\"black\",\"orange\"]\n",
    "plt.xlabel(\"median\")\n",
    "plt.ylabel(\"variance\")\n",
    "plt.title(\"bubble\")\n",
    "plt.scatter(x_values,y_values,alpha=0.7,s=1000,marker=\"8\",edgecolor=\"red\",color=col,linewidth=2)"
   ]
  },
  {
   "cell_type": "code",
   "execution_count": 308,
   "id": "70fed227",
   "metadata": {},
   "outputs": [
    {
     "name": "stderr",
     "output_type": "stream",
     "text": [
      "C:\\Users\\PRIYANKA\\AppData\\Local\\Temp\\ipykernel_8528\\3889809620.py:7: UserWarning: You passed a edgecolor/edgecolors ('red') for an unfilled marker ('3').  Matplotlib is ignoring the edgecolor in favor of the facecolor.  This behavior may change in the future.\n",
      "  plt.scatter(x_values,y_values,alpha=0.7,s=1000,marker=\"3\",edgecolor=\"red\",color=col,linewidth=2)\n"
     ]
    },
    {
     "data": {
      "text/plain": [
       "<matplotlib.collections.PathCollection at 0x2106e0bb250>"
      ]
     },
     "execution_count": 308,
     "metadata": {},
     "output_type": "execute_result"
    },
    {
     "data": {
      "image/png": "[encoded data removed]",
      "text/plain": [
       "<Figure size 432x288 with 1 Axes>"
      ]
     },
     "metadata": {
      "needs_background": "light"
     },
     "output_type": "display_data"
    }
   ],
   "source": [
    "x_values=[a.median(),b.median(),c.median(),d.median(),e.median(),f.median(),g.median()]\n",
    "y_values=[a.var(),b.var(),c.var(),d.var(),e.var(),f.var(),g.var()]\n",
    "col=[\"pink\",\"blue\",\"green\",\"violet\",\"yellow\",\"black\",\"orange\"]\n",
    "plt.xlabel(\"median\")\n",
    "plt.ylabel(\"variance\")\n",
    "plt.title(\"bubble\")\n",
    "plt.scatter(x_values,y_values,alpha=0.7,s=1000,marker=\"3\",edgecolor=\"red\",color=col,linewidth=2)"
   ]
  },
  {
   "cell_type": "code",
   "execution_count": 314,
   "id": "d07e15de",
   "metadata": {},
   "outputs": [
    {
     "data": {
      "text/plain": [
       "<matplotlib.collections.PathCollection at 0x2106e3126d0>"
      ]
     },
     "execution_count": 314,
     "metadata": {},
     "output_type": "execute_result"
    },
    {
     "data": {
      "image/png": "[encoded data removed]",
      "text/plain": [
       "<Figure size 432x288 with 1 Axes>"
      ]
     },
     "metadata": {
      "needs_background": "light"
     },
     "output_type": "display_data"
    }
   ],
   "source": [
    "x_values=[a.median(),b.median(),c.median(),d.median(),e.median(),f.median(),g.median()]\n",
    "y_values=[a.var(),b.var(),c.var(),d.var(),e.var(),f.var(),g.var()]\n",
    "plt.xlabel(\"median\")\n",
    "plt.ylabel(\"variance\")\n",
    "plt.title(\"bubble\")\n",
    "plt.scatter(x_values,y_values,alpha=0.7,s=100000,marker=\"*\",edgecolor=\"red\",color=col,linewidth=2)"
   ]
  },
  {
   "cell_type": "code",
   "execution_count": null,
   "id": "55b8c806",
   "metadata": {},
   "outputs": [],
   "source": []
  }
 ],
 "metadata": {
  "kernelspec": {
   "display_name": "Python 3 (ipykernel)",
   "language": "python",
   "name": "python3"
  },
  "language_info": {
   "codemirror_mode": {
    "name": "ipython",
    "version": 3
   },
   "file_extension": ".py",
   "mimetype": "text/x-python",
   "name": "python",
   "nbconvert_exporter": "python",
   "pygments_lexer": "ipython3",
   "version": "3.9.12"
  }
 },
 "nbformat": 4,
 "nbformat_minor": 5
}
