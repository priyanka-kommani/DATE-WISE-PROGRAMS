{
 "cells": [
  {
   "cell_type": "markdown",
   "id": "d5a81f9b",
   "metadata": {},
   "source": [
    "### type expressions"
   ]
  },
  {
   "cell_type": "code",
   "execution_count": 2,
   "id": "1acd17db",
   "metadata": {
    "scrolled": true
   },
   "outputs": [
    {
     "name": "stdout",
     "output_type": "stream",
     "text": [
      "<class 'int'>\n"
     ]
    }
   ],
   "source": [
    "a=10\n",
    "print(type(a))"
   ]
  },
  {
   "cell_type": "code",
   "execution_count": 3,
   "id": "50c31c85",
   "metadata": {},
   "outputs": [
    {
     "data": {
      "text/plain": [
       "float"
      ]
     },
     "execution_count": 3,
     "metadata": {},
     "output_type": "execute_result"
    }
   ],
   "source": [
    "b=10.2\n",
    "type(b)"
   ]
  },
  {
   "cell_type": "code",
   "execution_count": 4,
   "id": "f75a837a",
   "metadata": {},
   "outputs": [
    {
     "data": {
      "text/plain": [
       "str"
      ]
     },
     "execution_count": 4,
     "metadata": {},
     "output_type": "execute_result"
    }
   ],
   "source": [
    "a=\"priya\"\n",
    "type(a)"
   ]
  },
  {
   "cell_type": "code",
   "execution_count": 7,
   "id": "a9cc0714",
   "metadata": {},
   "outputs": [
    {
     "data": {
      "text/plain": [
       "bool"
      ]
     },
     "execution_count": 7,
     "metadata": {},
     "output_type": "execute_result"
    }
   ],
   "source": [
    "b0=True\n",
    "type(b0)"
   ]
  },
  {
   "cell_type": "markdown",
   "id": "05a71027",
   "metadata": {},
   "source": [
    "### string operations"
   ]
  },
  {
   "cell_type": "code",
   "execution_count": 8,
   "id": "e0638a81",
   "metadata": {},
   "outputs": [
    {
     "data": {
      "text/plain": [
       "'hello'"
      ]
     },
     "execution_count": 8,
     "metadata": {},
     "output_type": "execute_result"
    }
   ],
   "source": [
    "str=\"hello\"\n",
    "str"
   ]
  },
  {
   "cell_type": "markdown",
   "id": "6a94816e",
   "metadata": {},
   "source": [
    "### slicing"
   ]
  },
  {
   "cell_type": "code",
   "execution_count": 10,
   "id": "c5e63a3d",
   "metadata": {
    "scrolled": true
   },
   "outputs": [
    {
     "name": "stdout",
     "output_type": "stream",
     "text": [
      "h\n",
      "hel\n",
      "hel\n",
      "hello\n",
      "o\n"
     ]
    }
   ],
   "source": [
    "print(str[0])\n",
    "print(str[0:3])\n",
    "print(str[:3])\n",
    "print(str[0:])\n",
    "print(str[-1])"
   ]
  },
  {
   "cell_type": "markdown",
   "id": "89920152",
   "metadata": {},
   "source": [
    "### concatination"
   ]
  },
  {
   "cell_type": "code",
   "execution_count": 13,
   "id": "953b819e",
   "metadata": {},
   "outputs": [
    {
     "data": {
      "text/plain": [
       "'helloworld'"
      ]
     },
     "execution_count": 13,
     "metadata": {},
     "output_type": "execute_result"
    }
   ],
   "source": [
    "a=\"hello\"\n",
    "b=\"world\"\n",
    "a+b"
   ]
  },
  {
   "cell_type": "markdown",
   "id": "1b4c8331",
   "metadata": {},
   "source": [
    "### memebership functions"
   ]
  },
  {
   "cell_type": "code",
   "execution_count": 14,
   "id": "231804a3",
   "metadata": {},
   "outputs": [
    {
     "data": {
      "text/plain": [
       "False"
      ]
     },
     "execution_count": 14,
     "metadata": {},
     "output_type": "execute_result"
    }
   ],
   "source": [
    "a=\"hello\"\n",
    "\"a\" in a"
   ]
  },
  {
   "cell_type": "markdown",
   "id": "e2b2980c",
   "metadata": {},
   "source": [
    "### captitalize "
   ]
  },
  {
   "cell_type": "code",
   "execution_count": 15,
   "id": "2b1051a3",
   "metadata": {},
   "outputs": [
    {
     "data": {
      "text/plain": [
       "'Hello'"
      ]
     },
     "execution_count": 15,
     "metadata": {},
     "output_type": "execute_result"
    }
   ],
   "source": [
    "a=\"hello\"\n",
    "a.capitalize()"
   ]
  },
  {
   "cell_type": "markdown",
   "id": "a469c483",
   "metadata": {},
   "source": [
    "### count"
   ]
  },
  {
   "cell_type": "code",
   "execution_count": 16,
   "id": "85738867",
   "metadata": {},
   "outputs": [
    {
     "data": {
      "text/plain": [
       "2"
      ]
     },
     "execution_count": 16,
     "metadata": {},
     "output_type": "execute_result"
    }
   ],
   "source": [
    "a=\"data sience\"\n",
    "a.count(\"e\")"
   ]
  },
  {
   "cell_type": "markdown",
   "id": "5da5cf8c",
   "metadata": {},
   "source": [
    "### index"
   ]
  },
  {
   "cell_type": "code",
   "execution_count": 17,
   "id": "2a70a0dc",
   "metadata": {},
   "outputs": [
    {
     "data": {
      "text/plain": [
       "2"
      ]
     },
     "execution_count": 17,
     "metadata": {},
     "output_type": "execute_result"
    }
   ],
   "source": [
    "a=\"data science\"\n",
    "a.index(\"t\")"
   ]
  },
  {
   "cell_type": "markdown",
   "id": "ea4d8577",
   "metadata": {},
   "source": [
    "### string functions"
   ]
  },
  {
   "cell_type": "code",
   "execution_count": 21,
   "id": "65996b31",
   "metadata": {},
   "outputs": [
    {
     "name": "stdout",
     "output_type": "stream",
     "text": [
      "False\n",
      "False\n",
      "False\n",
      "True\n"
     ]
    }
   ],
   "source": [
    "a=\"data science\"\n",
    "print(a.isalpha())\n",
    "print(a.isdigit())\n",
    "print(a.isupper())\n",
    "print(a.islower())"
   ]
  },
  {
   "cell_type": "markdown",
   "id": "fd3978db",
   "metadata": {},
   "source": [
    "### join"
   ]
  },
  {
   "cell_type": "code",
   "execution_count": 22,
   "id": "b3527a5b",
   "metadata": {},
   "outputs": [
    {
     "data": {
      "text/plain": [
       "'cabcdabce'"
      ]
     },
     "execution_count": 22,
     "metadata": {},
     "output_type": "execute_result"
    }
   ],
   "source": [
    "a=\"abc\"\n",
    "b=\"cde\"\n",
    "a.join(b)"
   ]
  },
  {
   "cell_type": "markdown",
   "id": "da5b1051",
   "metadata": {},
   "source": [
    "### partition(),replace()"
   ]
  },
  {
   "cell_type": "code",
   "execution_count": 23,
   "id": "7de91511",
   "metadata": {},
   "outputs": [
    {
     "data": {
      "text/plain": [
       "('d', 'a', 'ta science')"
      ]
     },
     "execution_count": 23,
     "metadata": {},
     "output_type": "execute_result"
    }
   ],
   "source": [
    "a=\"data science\"\n",
    "a.partition(\"a\")"
   ]
  },
  {
   "cell_type": "code",
   "execution_count": 24,
   "id": "33aee0b4",
   "metadata": {},
   "outputs": [
    {
     "data": {
      "text/plain": [
       "'bata science'"
      ]
     },
     "execution_count": 24,
     "metadata": {},
     "output_type": "execute_result"
    }
   ],
   "source": [
    "a=\"data science\"\n",
    "a.replace(\"d\",\"b\")"
   ]
  },
  {
   "cell_type": "markdown",
   "id": "317f7eb4",
   "metadata": {},
   "source": [
    "## list operations"
   ]
  },
  {
   "cell_type": "markdown",
   "id": "2c9ce09f",
   "metadata": {},
   "source": [
    "### printing the list"
   ]
  },
  {
   "cell_type": "code",
   "execution_count": 25,
   "id": "95519e4e",
   "metadata": {},
   "outputs": [
    {
     "data": {
      "text/plain": [
       "[1, 2, 3, 4]"
      ]
     },
     "execution_count": 25,
     "metadata": {},
     "output_type": "execute_result"
    }
   ],
   "source": [
    "l=[1,2,3,4,]\n",
    "l"
   ]
  },
  {
   "cell_type": "markdown",
   "id": "7e4450c9",
   "metadata": {},
   "source": [
    "### append and insert and extend"
   ]
  },
  {
   "cell_type": "code",
   "execution_count": 26,
   "id": "487c0a1f",
   "metadata": {},
   "outputs": [
    {
     "data": {
      "text/plain": [
       "[1, 2, 3, 4, [9, 7]]"
      ]
     },
     "execution_count": 26,
     "metadata": {},
     "output_type": "execute_result"
    }
   ],
   "source": [
    "l.append([9,7])\n",
    "l"
   ]
  },
  {
   "cell_type": "code",
   "execution_count": 31,
   "id": "51a3e5eb",
   "metadata": {},
   "outputs": [
    {
     "data": {
      "text/plain": [
       "[1, 8, 8, 8, 2, 3, 4, [9, 7]]"
      ]
     },
     "execution_count": 31,
     "metadata": {},
     "output_type": "execute_result"
    }
   ],
   "source": [
    "l.insert(1,8)\n",
    "l"
   ]
  },
  {
   "cell_type": "code",
   "execution_count": 32,
   "id": "2fb3330b",
   "metadata": {},
   "outputs": [
    {
     "data": {
      "text/plain": [
       "[1, 8, 8, 8, 2, 3, 4, [9, 7], 9]"
      ]
     },
     "execution_count": 32,
     "metadata": {},
     "output_type": "execute_result"
    }
   ],
   "source": [
    "l.extend([9])\n",
    "l"
   ]
  },
  {
   "cell_type": "markdown",
   "id": "70818bf1",
   "metadata": {},
   "source": [
    "### accessing the elements"
   ]
  },
  {
   "cell_type": "code",
   "execution_count": 30,
   "id": "8825446d",
   "metadata": {},
   "outputs": [
    {
     "name": "stdout",
     "output_type": "stream",
     "text": [
      "8\n",
      "[9, 7]\n"
     ]
    }
   ],
   "source": [
    "print(l[1])\n",
    "print(l[-1])"
   ]
  },
  {
   "cell_type": "markdown",
   "id": "7c2da866",
   "metadata": {},
   "source": [
    "### deleting the elements"
   ]
  },
  {
   "cell_type": "code",
   "execution_count": 34,
   "id": "5b126ccd",
   "metadata": {},
   "outputs": [
    {
     "data": {
      "text/plain": [
       "[8, 8, 8, 2, 3, 4, [9, 7], 9]"
      ]
     },
     "execution_count": 34,
     "metadata": {},
     "output_type": "execute_result"
    }
   ],
   "source": [
    "del(l[0])\n",
    "l"
   ]
  },
  {
   "cell_type": "code",
   "execution_count": 36,
   "id": "02d8a2e9",
   "metadata": {},
   "outputs": [
    {
     "data": {
      "text/plain": [
       "9"
      ]
     },
     "execution_count": 36,
     "metadata": {},
     "output_type": "execute_result"
    }
   ],
   "source": [
    "l.pop()"
   ]
  },
  {
   "cell_type": "markdown",
   "id": "fa20accd",
   "metadata": {},
   "source": [
    "### reverse the list"
   ]
  },
  {
   "cell_type": "code",
   "execution_count": 37,
   "id": "41a6144e",
   "metadata": {},
   "outputs": [
    {
     "data": {
      "text/plain": [
       "[[9, 7], 4, 3, 2, 8, 8, 8]"
      ]
     },
     "execution_count": 37,
     "metadata": {},
     "output_type": "execute_result"
    }
   ],
   "source": [
    "l.reverse()\n",
    "l"
   ]
  },
  {
   "cell_type": "markdown",
   "id": "5754a445",
   "metadata": {},
   "source": [
    "### add"
   ]
  },
  {
   "cell_type": "code",
   "execution_count": 39,
   "id": "1e7d9cb2",
   "metadata": {},
   "outputs": [
    {
     "data": {
      "text/plain": [
       "['a', 'b', [9, 7], 4, 3, 2, 8, 8, 8]"
      ]
     },
     "execution_count": 39,
     "metadata": {},
     "output_type": "execute_result"
    }
   ],
   "source": [
    "l1=[\"a\",\"b\"]\n",
    "l1+l"
   ]
  },
  {
   "cell_type": "markdown",
   "id": "0332d183",
   "metadata": {},
   "source": [
    "### sort()\n"
   ]
  },
  {
   "cell_type": "code",
   "execution_count": 44,
   "id": "64bc3c3c",
   "metadata": {},
   "outputs": [
    {
     "data": {
      "text/plain": [
       "[0, 9, 18, 32]"
      ]
     },
     "execution_count": 44,
     "metadata": {},
     "output_type": "execute_result"
    }
   ],
   "source": [
    "l=[9,0,32,18]\n",
    "l.sort()\n",
    "l"
   ]
  },
  {
   "cell_type": "markdown",
   "id": "ce4e6b3b",
   "metadata": {},
   "source": [
    "### decending  order"
   ]
  },
  {
   "cell_type": "code",
   "execution_count": 46,
   "id": "b93a712b",
   "metadata": {},
   "outputs": [
    {
     "data": {
      "text/plain": [
       "[32, 18, 9, 0]"
      ]
     },
     "execution_count": 46,
     "metadata": {},
     "output_type": "execute_result"
    }
   ],
   "source": [
    "l.sort(reverse=True)\n",
    "l"
   ]
  },
  {
   "cell_type": "markdown",
   "id": "2d8cb55b",
   "metadata": {},
   "source": [
    "### length"
   ]
  },
  {
   "cell_type": "code",
   "execution_count": 48,
   "id": "259903e3",
   "metadata": {},
   "outputs": [
    {
     "data": {
      "text/plain": [
       "4"
      ]
     },
     "execution_count": 48,
     "metadata": {},
     "output_type": "execute_result"
    }
   ],
   "source": [
    "len(l)"
   ]
  },
  {
   "cell_type": "code",
   "execution_count": 49,
   "id": "445d5b6b",
   "metadata": {},
   "outputs": [
    {
     "name": "stdout",
     "output_type": "stream",
     "text": [
      "32\n",
      "0\n"
     ]
    }
   ],
   "source": [
    "print(max(l))\n",
    "print(min(l))"
   ]
  },
  {
   "cell_type": "markdown",
   "id": "772d8cc0",
   "metadata": {},
   "source": [
    "## tuple operations"
   ]
  },
  {
   "cell_type": "markdown",
   "id": "1f1756d3",
   "metadata": {},
   "source": [
    "### printing tuple"
   ]
  },
  {
   "cell_type": "code",
   "execution_count": 51,
   "id": "43dc52de",
   "metadata": {},
   "outputs": [
    {
     "data": {
      "text/plain": [
       "(1, 2, 3, 4)"
      ]
     },
     "execution_count": 51,
     "metadata": {},
     "output_type": "execute_result"
    }
   ],
   "source": [
    "t=(1,2,3,4)\n",
    "t"
   ]
  },
  {
   "cell_type": "markdown",
   "id": "3ce5e64a",
   "metadata": {},
   "source": [
    "### length()\n"
   ]
  },
  {
   "cell_type": "code",
   "execution_count": 108,
   "id": "14f46f09",
   "metadata": {},
   "outputs": [
    {
     "data": {
      "text/plain": [
       "4"
      ]
     },
     "execution_count": 108,
     "metadata": {},
     "output_type": "execute_result"
    }
   ],
   "source": [
    "len(t)"
   ]
  },
  {
   "cell_type": "markdown",
   "id": "a8810786",
   "metadata": {},
   "source": [
    "### count()\n"
   ]
  },
  {
   "cell_type": "code",
   "execution_count": 109,
   "id": "39b42a1a",
   "metadata": {},
   "outputs": [
    {
     "data": {
      "text/plain": [
       "1"
      ]
     },
     "execution_count": 109,
     "metadata": {},
     "output_type": "execute_result"
    }
   ],
   "source": [
    "t.count(3)"
   ]
  },
  {
   "cell_type": "markdown",
   "id": "35a712ac",
   "metadata": {},
   "source": [
    "### index()"
   ]
  },
  {
   "cell_type": "code",
   "execution_count": 111,
   "id": "43203b93",
   "metadata": {},
   "outputs": [
    {
     "data": {
      "text/plain": [
       "1"
      ]
     },
     "execution_count": 111,
     "metadata": {},
     "output_type": "execute_result"
    }
   ],
   "source": [
    "t.index(2)"
   ]
  },
  {
   "cell_type": "markdown",
   "id": "18a36a82",
   "metadata": {},
   "source": [
    "## set operations"
   ]
  },
  {
   "cell_type": "markdown",
   "id": "8b0290b8",
   "metadata": {},
   "source": [
    "### creating set"
   ]
  },
  {
   "cell_type": "code",
   "execution_count": 62,
   "id": "cb64a633",
   "metadata": {},
   "outputs": [
    {
     "data": {
      "text/plain": [
       "{1, 3, 23}"
      ]
     },
     "execution_count": 62,
     "metadata": {},
     "output_type": "execute_result"
    }
   ],
   "source": [
    "s1={1,23,3}\n",
    "s1"
   ]
  },
  {
   "cell_type": "markdown",
   "id": "6adcc65c",
   "metadata": {},
   "source": [
    "### union intersection"
   ]
  },
  {
   "cell_type": "code",
   "execution_count": 67,
   "id": "6562f16a",
   "metadata": {},
   "outputs": [
    {
     "data": {
      "text/plain": [
       "{1, 2, 3, 8, 9, 10, 23}"
      ]
     },
     "execution_count": 67,
     "metadata": {},
     "output_type": "execute_result"
    }
   ],
   "source": [
    "s2={2,8,9,3,10}\n",
    "s1.union(s2)"
   ]
  },
  {
   "cell_type": "code",
   "execution_count": 68,
   "id": "1c74eec0",
   "metadata": {},
   "outputs": [
    {
     "data": {
      "text/plain": [
       "{3}"
      ]
     },
     "execution_count": 68,
     "metadata": {},
     "output_type": "execute_result"
    }
   ],
   "source": [
    "s1.intersection(s2)"
   ]
  },
  {
   "cell_type": "markdown",
   "id": "67c08f25",
   "metadata": {},
   "source": [
    "### set difference"
   ]
  },
  {
   "cell_type": "code",
   "execution_count": 70,
   "id": "8a4da3c8",
   "metadata": {},
   "outputs": [
    {
     "data": {
      "text/plain": [
       "{1, 23}"
      ]
     },
     "execution_count": 70,
     "metadata": {},
     "output_type": "execute_result"
    }
   ],
   "source": [
    "s1.difference(s2)"
   ]
  },
  {
   "cell_type": "markdown",
   "id": "d1f820ab",
   "metadata": {},
   "source": [
    "### update and delete"
   ]
  },
  {
   "cell_type": "code",
   "execution_count": 73,
   "id": "ad772e05",
   "metadata": {},
   "outputs": [
    {
     "data": {
      "text/plain": [
       "{1, 3, 4, 23}"
      ]
     },
     "execution_count": 73,
     "metadata": {},
     "output_type": "execute_result"
    }
   ],
   "source": [
    "s1.add(4)\n",
    "s1"
   ]
  },
  {
   "cell_type": "code",
   "execution_count": 75,
   "id": "33abf75c",
   "metadata": {},
   "outputs": [
    {
     "data": {
      "text/plain": [
       "set()"
      ]
     },
     "execution_count": 75,
     "metadata": {},
     "output_type": "execute_result"
    }
   ],
   "source": [
    "s1.clear()\n",
    "s1"
   ]
  },
  {
   "cell_type": "code",
   "execution_count": 76,
   "id": "a225c35d",
   "metadata": {},
   "outputs": [
    {
     "data": {
      "text/plain": [
       "{3, 8, 9, 10}"
      ]
     },
     "execution_count": 76,
     "metadata": {},
     "output_type": "execute_result"
    }
   ],
   "source": [
    "s2.pop()\n",
    "s2"
   ]
  },
  {
   "cell_type": "code",
   "execution_count": 78,
   "id": "bc8790a4",
   "metadata": {},
   "outputs": [
    {
     "data": {
      "text/plain": [
       "{3, 9, 10}"
      ]
     },
     "execution_count": 78,
     "metadata": {},
     "output_type": "execute_result"
    }
   ],
   "source": [
    "s2.discard(8)\n",
    "s2"
   ]
  },
  {
   "cell_type": "code",
   "execution_count": 80,
   "id": "772e0c29",
   "metadata": {},
   "outputs": [
    {
     "data": {
      "text/plain": [
       "{3, 9, 10}"
      ]
     },
     "execution_count": 80,
     "metadata": {},
     "output_type": "execute_result"
    }
   ],
   "source": [
    "s1=s2.copy()\n",
    "s1"
   ]
  },
  {
   "cell_type": "markdown",
   "id": "22c8bf8c",
   "metadata": {},
   "source": [
    "### disjoint,superset,subset"
   ]
  },
  {
   "cell_type": "code",
   "execution_count": 82,
   "id": "70700e6a",
   "metadata": {},
   "outputs": [
    {
     "data": {
      "text/plain": [
       "False"
      ]
     },
     "execution_count": 82,
     "metadata": {},
     "output_type": "execute_result"
    }
   ],
   "source": [
    "s1={1,2,3,4}\n",
    "s2={1,9,8,3}\n",
    "s1.isdisjoint(s2)"
   ]
  },
  {
   "cell_type": "code",
   "execution_count": 84,
   "id": "b883ad6d",
   "metadata": {},
   "outputs": [
    {
     "data": {
      "text/plain": [
       "False"
      ]
     },
     "execution_count": 84,
     "metadata": {},
     "output_type": "execute_result"
    }
   ],
   "source": [
    "s1.issuperset(s2)"
   ]
  },
  {
   "cell_type": "code",
   "execution_count": 85,
   "id": "13ee798e",
   "metadata": {},
   "outputs": [
    {
     "data": {
      "text/plain": [
       "False"
      ]
     },
     "execution_count": 85,
     "metadata": {},
     "output_type": "execute_result"
    }
   ],
   "source": [
    "s2.issubset(s1)"
   ]
  },
  {
   "cell_type": "markdown",
   "id": "57e3dac5",
   "metadata": {},
   "source": [
    "## dictionaries"
   ]
  },
  {
   "cell_type": "markdown",
   "id": "5a2a2649",
   "metadata": {},
   "source": [
    "## creating dictionary"
   ]
  },
  {
   "cell_type": "code",
   "execution_count": 88,
   "id": "7bd55231",
   "metadata": {},
   "outputs": [
    {
     "data": {
      "text/plain": [
       "{'name': 'priya', 'rno': 124}"
      ]
     },
     "execution_count": 88,
     "metadata": {},
     "output_type": "execute_result"
    }
   ],
   "source": [
    "d={\"name\":\"priya\",\"rno\":124}\n",
    "d"
   ]
  },
  {
   "cell_type": "markdown",
   "id": "9a64fe6a",
   "metadata": {},
   "source": [
    "### printing values and keys"
   ]
  },
  {
   "cell_type": "code",
   "execution_count": 90,
   "id": "a234fdbd",
   "metadata": {},
   "outputs": [
    {
     "data": {
      "text/plain": [
       "dict_values(['priya', 124])"
      ]
     },
     "execution_count": 90,
     "metadata": {},
     "output_type": "execute_result"
    }
   ],
   "source": [
    "d.values()"
   ]
  },
  {
   "cell_type": "code",
   "execution_count": 91,
   "id": "3f3e0c61",
   "metadata": {},
   "outputs": [
    {
     "data": {
      "text/plain": [
       "dict_keys(['name', 'rno'])"
      ]
     },
     "execution_count": 91,
     "metadata": {},
     "output_type": "execute_result"
    }
   ],
   "source": [
    "d.keys()"
   ]
  },
  {
   "cell_type": "code",
   "execution_count": 92,
   "id": "90aed486",
   "metadata": {},
   "outputs": [
    {
     "data": {
      "text/plain": [
       "dict_items([('name', 'priya'), ('rno', 124)])"
      ]
     },
     "execution_count": 92,
     "metadata": {},
     "output_type": "execute_result"
    }
   ],
   "source": [
    "d.items()"
   ]
  },
  {
   "cell_type": "markdown",
   "id": "2c6ad06c",
   "metadata": {},
   "source": [
    "### deleting items"
   ]
  },
  {
   "cell_type": "code",
   "execution_count": 94,
   "id": "ccf8ac97",
   "metadata": {},
   "outputs": [
    {
     "data": {
      "text/plain": [
       "'priya'"
      ]
     },
     "execution_count": 94,
     "metadata": {},
     "output_type": "execute_result"
    }
   ],
   "source": [
    "d.pop(\"name\")"
   ]
  },
  {
   "cell_type": "code",
   "execution_count": 95,
   "id": "490d98a2",
   "metadata": {},
   "outputs": [
    {
     "data": {
      "text/plain": [
       "('rno', 124)"
      ]
     },
     "execution_count": 95,
     "metadata": {},
     "output_type": "execute_result"
    }
   ],
   "source": [
    "d.popitem()"
   ]
  },
  {
   "cell_type": "code",
   "execution_count": 100,
   "id": "99d9250d",
   "metadata": {},
   "outputs": [
    {
     "data": {
      "text/plain": [
       "{'rno': 124}"
      ]
     },
     "execution_count": 100,
     "metadata": {},
     "output_type": "execute_result"
    }
   ],
   "source": [
    "d={\"name\":\"abe\",\"rno\":124}\n",
    "del(d[\"name\"])\n",
    "d"
   ]
  },
  {
   "cell_type": "markdown",
   "id": "26c5fa49",
   "metadata": {},
   "source": [
    "### inserting"
   ]
  },
  {
   "cell_type": "code",
   "execution_count": 104,
   "id": "d670ca27",
   "metadata": {},
   "outputs": [
    {
     "data": {
      "text/plain": [
       "{'rno': 124, 'class': 'cse'}"
      ]
     },
     "execution_count": 104,
     "metadata": {},
     "output_type": "execute_result"
    }
   ],
   "source": [
    "d[\"class\"]=\"cse\"\n",
    "d"
   ]
  },
  {
   "cell_type": "markdown",
   "id": "b9fb1210",
   "metadata": {},
   "source": [
    "### accessing"
   ]
  },
  {
   "cell_type": "code",
   "execution_count": 107,
   "id": "20ba6c9e",
   "metadata": {},
   "outputs": [
    {
     "data": {
      "text/plain": [
       "'cse'"
      ]
     },
     "execution_count": 107,
     "metadata": {},
     "output_type": "execute_result"
    }
   ],
   "source": [
    "d.get(\"class\")\n"
   ]
  },
  {
   "cell_type": "code",
   "execution_count": null,
   "id": "5551a59d",
   "metadata": {},
   "outputs": [],
   "source": []
  }
 ],
 "metadata": {
  "kernelspec": {
   "display_name": "Python 3 (ipykernel)",
   "language": "python",
   "name": "python3"
  },
  "language_info": {
   "codemirror_mode": {
    "name": "ipython",
    "version": 3
   },
   "file_extension": ".py",
   "mimetype": "text/x-python",
   "name": "python",
   "nbconvert_exporter": "python",
   "pygments_lexer": "ipython3",
   "version": "3.9.12"
  }
 },
 "nbformat": 4,
 "nbformat_minor": 5
}
